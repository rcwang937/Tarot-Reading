{
  "cells": [
    {
      "cell_type": "markdown",
      "metadata": {
        "id": "wM8MRkf8Dr94"
      },
      "source": [
        "## Describe your model -> fine-tuned GPT-3.5\n",
        "By Matt Shumer (https://twitter.com/mattshumer_)\n",
        "\n",
        "The goal of this notebook is to experiment with a new way to make it very easy to build a task-specific model for your use-case.\n",
        "\n",
        "First, use the best GPU available (go to Runtime -> change runtime type)\n",
        "\n",
        "To create your model, just go to the first code cell, and describe the model you want to build in the prompt. Be descriptive and clear.\n",
        "\n",
        "Select a temperature (high=creative, low=precise), and the number of training examples to generate to train the model. From there, just run all the cells.\n",
        "\n",
        "You can change the model you want to fine-tune by changing `model_name` in the `Define Hyperparameters` cell."
      ]
    },
    {
      "cell_type": "markdown",
      "metadata": {
        "id": "Way3_PuPpIuE"
      },
      "source": [
        "#Data generation step"
      ]
    },
    {
      "cell_type": "markdown",
      "metadata": {
        "id": "lY-3DvlIpVSl"
      },
      "source": [
        "Write your prompt here. Make it as descriptive as possible!\n",
        "\n",
        "Then, choose the temperature (between 0 and 1) to use when generating data. Lower values are great for precise tasks, like writing code, whereas larger values are better for creative tasks, like writing stories.\n",
        "\n",
        "Finally, choose how many examples you want to generate. The more you generate, a) the longer it takes and b) the more expensive data generation will be. But generally, more examples will lead to a higher-quality model. 100 is usually the minimum to start."
      ]
    },
    {
      "cell_type": "code",
      "execution_count": null,
      "metadata": {
        "id": "R7WKZyxtpUPS"
      },
      "outputs": [],
      "source": [
        "prompt = '''\n",
        "This model is designed to act as a virtual tarot reader.\n",
        "When presented with a user's question about any topic, such as personal decision-making, career guidance, or relationship advice,\n",
        "the model draws three tarot cards from a digital deck. The cards can appear in either an upright or reversed position, adding depth to the reading.\n",
        "Each card drawn is dynamically selected based on the nature of the question to ensure relevancy and specificity.\n",
        "\n",
        "Functionality:\n",
        "\n",
        "Question Input: The user inputs a question via a text interface.\n",
        "Card Drawing: The model randomly selects three cards from a tarot deck, considering the context of the question to influence the selection algorithm. The orientation (upright or reversed) of each card is also randomly determined but can be weighted by the sentiment or complexity of the question.\n",
        "Interpretation Engine: The model employs a sophisticated NLP (Natural Language Processing) system designed to interpret the meanings of the tarot cards based on their positions and orientations.It integrates traditional tarot interpretations with modern psychological insights to generate responses.\n",
        "Response Generation: Combining the individual meanings of the cards, the model synthesizes a coherent, detailed response. This response is structured to provide insights, reflect on the user's situation, and offer advice as interpreted by the cards.\n",
        "\n",
        "Example Use Case:\n",
        "\n",
        "A user asks, \"Should I consider changing my job?\" In response, the model draws three cards:\n",
        "\n",
        "The Fool (upright): Representing new beginnings and opportunities.\n",
        "The Tower (reversed): Suggesting overcoming turmoil or avoiding disaster.\n",
        "The Ten of Pentacles (upright): Indicating financial security and rewarding outcomes.\n",
        "Based on these cards, the model might advise the user to be open to new opportunities as they might lead to both personal and financial fulfillment, cautioning that while change can be disruptive, it may ultimately lead to positive outcomes.\n",
        "\n",
        "Output:\n",
        "\n",
        "The model's output is a detailed, step-by-step explanation of how each card relates to the question, culminating in a synthesized advice based on the combined interpretations of the cards.\n",
        "The response is crafted to be thoughtful, reflective, and geared towards helping the user consider various perspectives on their query.\n",
        "\n",
        "'''\n",
        "temperature = .6\n",
        "number_of_examples = 50"
      ]
    },
    {
      "cell_type": "markdown",
      "metadata": {
        "id": "1snNou5PrIci"
      },
      "source": [
        "Run this to generate the dataset."
      ]
    },
    {
      "cell_type": "code",
      "execution_count": null,
      "metadata": {
        "colab": {
          "base_uri": "https://localhost:8080/"
        },
        "id": "zo73l43lzhI7",
        "outputId": "47806b39-552e-4da9-edcb-71dd11ab746d"
      },
      "outputs": [
        {
          "name": "stdout",
          "output_type": "stream",
          "text": [
            "Requirement already satisfied: openai in /usr/local/lib/python3.10/dist-packages (1.23.6)\n",
            "Requirement already satisfied: anyio<5,>=3.5.0 in /usr/local/lib/python3.10/dist-packages (from openai) (3.7.1)\n",
            "Requirement already satisfied: distro<2,>=1.7.0 in /usr/lib/python3/dist-packages (from openai) (1.7.0)\n",
            "Requirement already satisfied: httpx<1,>=0.23.0 in /usr/local/lib/python3.10/dist-packages (from openai) (0.27.0)\n",
            "Requirement already satisfied: pydantic<3,>=1.9.0 in /usr/local/lib/python3.10/dist-packages (from openai) (2.7.0)\n",
            "Requirement already satisfied: sniffio in /usr/local/lib/python3.10/dist-packages (from openai) (1.3.1)\n",
            "Requirement already satisfied: tqdm>4 in /usr/local/lib/python3.10/dist-packages (from openai) (4.66.2)\n",
            "Requirement already satisfied: typing-extensions<5,>=4.7 in /usr/local/lib/python3.10/dist-packages (from openai) (4.11.0)\n",
            "Requirement already satisfied: idna>=2.8 in /usr/local/lib/python3.10/dist-packages (from anyio<5,>=3.5.0->openai) (3.7)\n",
            "Requirement already satisfied: exceptiongroup in /usr/local/lib/python3.10/dist-packages (from anyio<5,>=3.5.0->openai) (1.2.1)\n",
            "Requirement already satisfied: certifi in /usr/local/lib/python3.10/dist-packages (from httpx<1,>=0.23.0->openai) (2024.2.2)\n",
            "Requirement already satisfied: httpcore==1.* in /usr/local/lib/python3.10/dist-packages (from httpx<1,>=0.23.0->openai) (1.0.5)\n",
            "Requirement already satisfied: h11<0.15,>=0.13 in /usr/local/lib/python3.10/dist-packages (from httpcore==1.*->httpx<1,>=0.23.0->openai) (0.14.0)\n",
            "Requirement already satisfied: annotated-types>=0.4.0 in /usr/local/lib/python3.10/dist-packages (from pydantic<3,>=1.9.0->openai) (0.6.0)\n",
            "Requirement already satisfied: pydantic-core==2.18.1 in /usr/local/lib/python3.10/dist-packages (from pydantic<3,>=1.9.0->openai) (2.18.1)\n"
          ]
        }
      ],
      "source": [
        "!pip install openai"
      ]
    },
    {
      "cell_type": "code",
      "execution_count": null,
      "metadata": {
        "colab": {
          "base_uri": "https://localhost:8080/"
        },
        "id": "zuL2UaqlsmBD",
        "outputId": "ee79e567-793d-4a30-8977-8dd76bab6edc"
      },
      "outputs": [
        {
          "name": "stdout",
          "output_type": "stream",
          "text": [
            "Collecting openai\n",
            "  Downloading openai-1.23.6-py3-none-any.whl (311 kB)\n",
            "\u001b[2K     \u001b[90m━━━━━━━━━━━━━━━━━━━━━━━━━━━━━━━━━━━━━━━━\u001b[0m \u001b[32m311.6/311.6 kB\u001b[0m \u001b[31m2.2 MB/s\u001b[0m eta \u001b[36m0:00:00\u001b[0m\n",
            "\u001b[?25hRequirement already satisfied: tenacity in /usr/local/lib/python3.10/dist-packages (8.2.3)\n",
            "Requirement already satisfied: anyio<5,>=3.5.0 in /usr/local/lib/python3.10/dist-packages (from openai) (3.7.1)\n",
            "Requirement already satisfied: distro<2,>=1.7.0 in /usr/lib/python3/dist-packages (from openai) (1.7.0)\n",
            "Collecting httpx<1,>=0.23.0 (from openai)\n",
            "  Downloading httpx-0.27.0-py3-none-any.whl (75 kB)\n",
            "\u001b[2K     \u001b[90m━━━━━━━━━━━━━━━━━━━━━━━━━━━━━━━━━━━━━━━━\u001b[0m \u001b[32m75.6/75.6 kB\u001b[0m \u001b[31m6.2 MB/s\u001b[0m eta \u001b[36m0:00:00\u001b[0m\n",
            "\u001b[?25hRequirement already satisfied: pydantic<3,>=1.9.0 in /usr/local/lib/python3.10/dist-packages (from openai) (2.7.0)\n",
            "Requirement already satisfied: sniffio in /usr/local/lib/python3.10/dist-packages (from openai) (1.3.1)\n",
            "Requirement already satisfied: tqdm>4 in /usr/local/lib/python3.10/dist-packages (from openai) (4.66.2)\n",
            "Requirement already satisfied: typing-extensions<5,>=4.7 in /usr/local/lib/python3.10/dist-packages (from openai) (4.11.0)\n",
            "Requirement already satisfied: idna>=2.8 in /usr/local/lib/python3.10/dist-packages (from anyio<5,>=3.5.0->openai) (3.7)\n",
            "Requirement already satisfied: exceptiongroup in /usr/local/lib/python3.10/dist-packages (from anyio<5,>=3.5.0->openai) (1.2.1)\n",
            "Requirement already satisfied: certifi in /usr/local/lib/python3.10/dist-packages (from httpx<1,>=0.23.0->openai) (2024.2.2)\n",
            "Collecting httpcore==1.* (from httpx<1,>=0.23.0->openai)\n",
            "  Downloading httpcore-1.0.5-py3-none-any.whl (77 kB)\n",
            "\u001b[2K     \u001b[90m━━━━━━━━━━━━━━━━━━━━━━━━━━━━━━━━━━━━━━━━\u001b[0m \u001b[32m77.9/77.9 kB\u001b[0m \u001b[31m6.9 MB/s\u001b[0m eta \u001b[36m0:00:00\u001b[0m\n",
            "\u001b[?25hCollecting h11<0.15,>=0.13 (from httpcore==1.*->httpx<1,>=0.23.0->openai)\n",
            "  Downloading h11-0.14.0-py3-none-any.whl (58 kB)\n",
            "\u001b[2K     \u001b[90m━━━━━━━━━━━━━━━━━━━━━━━━━━━━━━━━━━━━━━━━\u001b[0m \u001b[32m58.3/58.3 kB\u001b[0m \u001b[31m4.9 MB/s\u001b[0m eta \u001b[36m0:00:00\u001b[0m\n",
            "\u001b[?25hRequirement already satisfied: annotated-types>=0.4.0 in /usr/local/lib/python3.10/dist-packages (from pydantic<3,>=1.9.0->openai) (0.6.0)\n",
            "Requirement already satisfied: pydantic-core==2.18.1 in /usr/local/lib/python3.10/dist-packages (from pydantic<3,>=1.9.0->openai) (2.18.1)\n",
            "Installing collected packages: h11, httpcore, httpx, openai\n",
            "Successfully installed h11-0.14.0 httpcore-1.0.5 httpx-0.27.0 openai-1.23.6\n"
          ]
        }
      ],
      "source": [
        "!pip install openai tenacity"
      ]
    },
    {
      "cell_type": "code",
      "execution_count": null,
      "metadata": {
        "colab": {
          "base_uri": "https://localhost:8080/"
        },
        "id": "Rdsd82ngpHCG",
        "outputId": "2bb36bd8-b413-48ca-873e-a1438a427902"
      },
      "outputs": [
        {
          "name": "stdout",
          "output_type": "stream",
          "text": [
            "Generating example 0\n",
            "Generating example 1\n",
            "Generating example 2\n",
            "Generating example 3\n",
            "Generating example 4\n",
            "Generating example 5\n",
            "Generating example 6\n",
            "Generating example 7\n",
            "Generating example 8\n",
            "Generating example 9\n",
            "Generating example 10\n",
            "Generating example 11\n",
            "Generating example 12\n",
            "Generating example 13\n",
            "Generating example 14\n",
            "Generating example 15\n",
            "Generating example 16\n",
            "Generating example 17\n",
            "Generating example 18\n",
            "Generating example 19\n",
            "Generating example 20\n",
            "Generating example 21\n",
            "Generating example 22\n",
            "Generating example 23\n",
            "Generating example 24\n",
            "Generating example 25\n",
            "Generating example 26\n",
            "Generating example 27\n",
            "Generating example 28\n",
            "Generating example 29\n",
            "Generating example 30\n",
            "Generating example 31\n",
            "Generating example 32\n",
            "Generating example 33\n",
            "Generating example 34\n",
            "Generating example 35\n",
            "Generating example 36\n",
            "Generating example 37\n",
            "Generating example 38\n",
            "Generating example 39\n",
            "Generating example 40\n",
            "Generating example 41\n",
            "Generating example 42\n",
            "Generating example 43\n",
            "Generating example 44\n",
            "Generating example 45\n",
            "Generating example 46\n",
            "Generating example 47\n",
            "Generating example 48\n",
            "Generating example 49\n",
            "[\"prompt\\n-----------\\nI'm having a hard time deciding whether I should move to a new city for a job opportunity. What should I do?\\n-----------\\n\\nresponse\\n-----------\\nLet's turn to the cards for guidance. \\n\\n1. The Magician (upright): This card represents the power of action and the ability to effect change. It suggests that you have the skills and capabilities to make this move successful.\\n\\n2. The Eight of Swords (reversed): This card signifies release and freedom. It indicates that you might be feeling trapped or stuck, but it's important to know that you have the power to break free from these constraints.\\n\\n3. The Wheel of Fortune (upright): This card represents change, cycles, and unexpected events. It suggests that this new job opportunity might be a part of your life's cycle, which could bring about a significant change.\\n\\nBased on these cards, it seems that you have the skills necessary to make this move a success. You might be feeling trapped or uncertain now, but remember that change is a part of life and often leads to growth and development. This new opportunity could be the change you need. Consider your options carefully and trust in your abilities.\", \"prompt\\n-----------\\nI've been feeling quite anxious about my financial situation lately. What should I do to improve it?\\n-----------\\n\\nresponse\\n-----------\\nLet's see what the cards suggest.\\n\\n1. Five of Pentacles (reversed): This card, when upright, typically indicates hardship and financial struggle. However, in its reversed position, it suggests recovery from financial loss and hints at an improvement in your circumstances.\\n\\n2. The Empress (upright): The Empress stands for abundance, creativity, and nurturing. It could be suggesting that with a nurturing and patient approach, you can cultivate prosperity.\\n\\n3. Nine of Pentacles (upright): This card represents financial independence and the fruits of hard work. It indicates that with determination and focus, you can achieve your financial goals.\\n\\nThe cards suggest a journey of recovery and growth. You might be experiencing financial hardship now, but with patience, creativity, and hard work, you can turn your situation around. The Empress encourages you to nurture and cultivate, while the Nine of Pentacles promises the potential for financial independence. Stay focused and patient, and you will see improvement.\", \"prompt\\n-----------\\nI'm feeling uncertain about my relationship. Are we on the right path?\\n-----------\\n\\nresponse\\n-----------\\nLet's seek guidance from the tarot cards.\\n\\n1. Two of Cups (upright): This card symbolizes a deep connection and mutual attraction. It suggests that there are strong feelings of love and understanding in your relationship.\\n\\n2. The Lovers (reversed): In its reversed position, this card can indicate disconnection or imbalance in a relationship. It might be suggesting that there are some issues that need to be addressed.\\n\\n3. Ten of Cups (upright): This card represents fulfillment, happiness, and alignment in relationships. It suggests a potential for a satisfying and harmonious relationship.\\n\\nThe cards suggest a deep connection in your relationship, indicated by the Two of Cups, but also some issues that need to be addressed, as suggested by The Lovers reversed. However, the Ten of Cups suggests a potential for happiness and fulfillment. It's important to address any issues openly and honestly, and keep in mind the deep connection you share. With understanding and communication, you can work towards the fulfillment and happiness represented by the Ten of Cups.\", \"prompt\\n-----------\\nI'm unsure about continuing my studies at the graduate level. What should I consider?\\n-----------\\n\\nresponse\\n-----------\\nLet's consult the cards for insights.\\n\\n1. The Hierophant (upright): This card represents traditional education, institutions, and the pursuit of knowledge. It suggests that pursuing further studies could provide a structured path for learning and growth.\\n\\n2. Seven of Cups (reversed): This card, when reversed, indicates the need to make a decision and to be realistic about your choices. It might be suggesting that you need to clear your mind and focus on what you truly want.\\n\\n3. The Star (upright): This card represents hope, inspiration, and serenity. It suggests that your aspirations and dreams are within reach.\\n\\nThe cards suggest that continuing your studies could provide a structured path for your growth, as indicated by The Hierophant. However, the Seven of Cups reversed encourages you to be clear and realistic about your decision. Consider what you truly want out of this opportunity. The Star card brings a message of hope and inspiration, suggesting that your goals are achievable. Reflect on these insights and make the decision that aligns best with your aspirations.\", \"prompt\\n-----------\\nI've been feeling unfulfilled at work lately. Should I consider pursuing a different career path?\\n-----------\\n\\nresponse\\n-----------\\nLet's draw from the tarot deck to better understand your situation.\\n\\n1. Eight of Pentacles (reversed): This card in its reversed position indicates monotony and lack of passion in your current work. It suggests that you might be feeling unchallenged or unfulfilled.\\n\\n2. The Chariot (upright): This card represents determination, control, and overcoming obstacles. It suggests that you have the strength and willpower to change your course if you choose.\\n\\n3. The World (upright): This card symbolizes completion, fulfillment, and accomplishment. It indicates that a successful outcome is possible.\\n\\nBased on these cards, it appears you may be feeling unfulfilled in your current work as indicated by the Eight of Pentacles reversed. However, The Chariot suggests that you have the power to change your path and overcome any obstacles that may come your way. The World card augurs well for a successful outcome. If a different career path resonates with you, it might be worth considering. Remember to make the decision that aligns best with your personal fulfillment and happiness.\", \"prompt\\n-----------\\nI'm feeling stuck in my personal growth. What steps should I take to progress?\\n-----------\\n\\nresponse\\n-----------\\nLet's look to the tarot cards for guidance.\\n\\n1. The Hanged Man (upright): This card represents pause, surrender, and new perspectives. It suggests that it might be beneficial for you to take some time to reflect and gain a new perspective on your situation.\\n\\n2. The Death (reversed): This card, in its reversed position, indicates resistance to change. It might be suggesting that you are holding onto something that needs to be released for you to move forward.\\n\\n3. The Fool (upright): This card symbolizes new beginnings, spontaneity, and faith in the universe. It suggests that a new journey awaits you once you're ready to take the leap.\\n\\nThe cards suggest a need for reflection and a change in perspective, as indicated by The Hanged Man. The Death reversed implies that there might be something you need to let go of in order to progress. The Fool assures you that once you're ready to embrace change and embark on a new journey, personal growth will follow. Take some time to reflect on what needs to change and prepare yourself for a new beginning.\", \"prompt\\n-----------\\nI'm considering starting my own business. What should I be aware of?\\n-----------\\n\\nresponse\\n-----------\\nLet's consult the tarot cards for insights.\\n\\n1. The Emperor (upright): This card represents authority, structure, and control. It suggests that you will need to be organized and disciplined in your approach to starting a business.\\n\\n2. Seven of Pentacles (reversed): In its reversed position, this card can indicate impatience and lack of reward. It might be suggesting that starting a business will require patience and you might not see immediate results.\\n\\n3. The Wheel of Fortune (reversed): This card represents unexpected changes and suggests that there might be some unforeseen challenges or changes in your path.\\n\\nThe cards suggest that starting your own business will require discipline and structure, as indicated by The Emperor. The Seven of Pentacles reversed warns of potential impatience and the need to be prepared for a period where results might not be immediate. The Wheel of Fortune reversed suggests there might be unexpected changes or challenges ahead. It's important to be patient, organized, and prepared for potential changes. Remember, every successful business faces challenges, but perseverance and adaptability can help overcome them.\", \"prompt\\n-----------\\nI've been thinking about taking a year off to travel. What should I consider?\\n-----------\\n\\nresponse\\n-----------\\nLet's see what guidance the tarot cards can provide.\\n\\n1. The Fool (upright): This card represents new beginnings, spontaneity, and a leap of faith. It suggests that this journey could be a transformative experience for you.\\n\\n2. Two of Wands (upright): This card stands for planning and future action. It indicates that careful planning and consideration are needed for your travels.\\n\\n3. The Hermit (reversed): In its reversed position, this card can indicate isolation and loneliness. It might be suggesting that during your travels, there could be times when you feel alone or disconnected.\\n\\nThe cards suggest that taking a year off to travel could be a transformative experience, as indicated by The Fool. However, careful planning is necessary, as suggested by the Two of Wands. The Hermit reversed reminds you that there might be moments of loneliness or isolation during your journey. It's important to be prepared for these moments and seek connection when needed. Embrace the journey, plan carefully, and be open to the transformative experiences that travel can bring.\", \"prompt\\n-----------\\nI've been offered a promotion at work, but it will involve more responsibility. Should I accept it?\\n-----------\\n\\nresponse\\n-----------\\nLet's turn to the tarot cards for guidance.\\n\\n1. Three of Pentacles (upright): This card represents teamwork, collaboration, and learning. It suggests that accepting the promotion could offer opportunities for growth and learning through increased collaboration.\\n\\n2. Strength (upright): This card represents courage, patience, and control. It suggests that you have the inner strength and capability to handle the increased responsibility.\\n\\n3. Ten of Cups (reversed): In its reversed position, this card can indicate disharmony or misalignment. It might be suggesting that you should consider how this promotion aligns with your personal life and overall happiness.\\n\\nThe cards suggest that you have the strength and capability to handle the responsibilities that come with this promotion, as indicated by the Strength card. The Three of Pentacles suggests that this could be a great opportunity for growth and learning. However, the Ten of Cups reversed advises you to consider how this promotion aligns with your personal life and overall happiness. It's important to balance professional growth with personal fulfillment.\", \"prompt\\n-----------\\nI've been considering adopting a pet. What should I think about before making a decision?\\n-----------\\n\\nresponse\\n-----------\\nLet's see what the tarot cards suggest.\\n\\n1. The Empress (upright): This card represents nurturing, care, and abundance. It suggests that you have the capacity to provide a loving and caring environment for a pet.\\n\\n2. Five of Wands (reversed): This card, when reversed, indicates the resolution of conflicts and differences. It might be suggesting that adopting a pet could bring harmony and companionship into your life.\\n\\n3. The Moon (reversed): In its reversed position, this card can indicate fear and misunderstanding. It might be reminding you to consider the responsibility and commitment that come with pet ownership.\\n\\nThe cards suggest that you have the capacity to provide a nurturing environment for a pet, as indicated by The Empress. The Five of Wands reversed suggests that a pet could bring harmony and companionship. However, The Moon reversed reminds you to consider the responsibilities and commitments that come with pet ownership. Make sure you're ready for the commitment and consider the kind of pet that would best fit your lifestyle.\", \"prompt\\n-----------\\nI've been feeling disconnected from my friends lately. How can I improve my relationships?\\n-----------\\n\\nresponse\\n-----------\\nLet's turn to the tarot cards for advice.\\n\\n1. The Two of Cups (upright): This card represents mutual attraction, connection, and bonding. It suggests that building connections requires mutual effort and understanding.\\n\\n2. The Five of Wands (reversed): This card, in its reversed position, represents conflict resolution and harmony. It might be suggesting that there could be some misunderstandings or conflicts that need to be resolved.\\n\\n3. The Sun (upright): This card symbolizes positivity, joy, and success. It suggests that with a positive and open attitude, you can improve your relationships.\\n\\nThe cards suggest that mutual effort and understanding are key to improving your relationships, as indicated by the Two of Cups. The Five of Wands reversed suggests resolving any conflicts or misunderstandings. The Sun brings a message of positivity and success, indicating that with a positive attitude, you can strengthen your bonds. Open communication, understanding, and positivity will help you reconnect with your friends.\", \"prompt\\n-----------\\nI'm feeling overwhelmed with my responsibilities. How can I better manage my stress?\\n-----------\\n\\nresponse\\n-----------\\nLet's consult the tarot cards for guidance.\\n\\n1. Ten of Wands (upright): This card represents burdens, responsibilities, and stress. It acknowledges the weight you're currently carrying and suggests seeking ways to lighten your load.\\n\\n2. Four of Swords (upright): This card represents rest, relaxation, and contemplation. It suggests that taking time for self-care and rest is necessary for managing your stress.\\n\\n3. The High Priestess (reversed): In its reversed position, this card can indicate ignoring your intuition and inner voice. It might be suggesting that you need to listen more to your inner self for guidance.\\n\\nThe cards suggest that you're carrying a heavy load, as indicated by the Ten of Wands. However, the Four of Swords advises that rest and self-care are crucial in managing your stress. The High Priestess reversed reminds you to listen to your intuition. It might be time to reassess your responsibilities and seek help if needed. Remember, taking care of your mental health is just as important as fulfilling your duties.\", \"prompt\\n-----------\\nI'm unsure about starting a new business. What should I consider?\\n-----------\\n\\nresponse\\n-----------\\nLet's see what the tarot cards suggest.\\n\\n1. The Fool (upright): This card represents new beginnings, spontaneity, and faith in the universe. It suggests that starting a new business could be an exciting new journey for you.\\n\\n2. Seven of Pentacles (upright): This card represents patience, long-term goals, and future planning. It suggests that starting a business requires patience and careful planning.\\n\\n3. The Devil (reversed): In its reversed position, this card can indicate freedom and breaking free from chains. It might be suggesting that starting a new business could provide you with a sense of freedom and control over your career.\\n\\nThe cards suggest that starting a new business could be a rewarding journey, as indicated by The Fool. However, the Seven of Pentacles reminds you that it requires patience and careful planning. The Devil reversed suggests that this could be an opportunity for you to gain more control over your career. Consider these aspects carefully and make sure you're ready for the commitment and challenges that come with starting a business.\", \"prompt\\n-----------\\nI've been offered a job in a different city, but I'm not sure if I should relocate. What should I consider?\\n-----------\\n\\nresponse\\n-----------\\nLet's consult the tarot cards for guidance.\\n\\n1. The Chariot (upright): This card represents determination, control, and overcoming obstacles. It suggests that you have the power to take charge of your life and make the decision that is best for you.\\n\\n2. Eight of Cups (upright): This card represents moving on and seeking a higher purpose. It might be suggesting that this move could lead to personal growth and new opportunities.\\n\\n3. The Tower (reversed): In its reversed position, this card can indicate avoiding disaster or fear of change. It might be suggesting that you are apprehensive about the upheaval that relocation can cause.\\n\\nThe cards suggest that you have the power to make this decision, as indicated by The Chariot. The Eight of Cups suggests that relocating could offer new opportunities for personal growth. However, The Tower reversed indicates that you might be fearing the change and disruption that comes with moving. It's important to weigh these factors and make the decision that aligns with your personal and professional growth.\", \"prompt\\n-----------\\nI've been thinking about going back to school to further my education. What should I consider?\\n-----------\\n\\nresponse\\n-----------\\nLet's consult the tarot cards for guidance.\\n\\n1. The Hierophant (upright): This card represents education, tradition, and belief systems. It suggests that furthering your education could be a beneficial path for you.\\n\\n2. The Eight of Pentacles (upright): This card symbolizes craftsmanship and skill development. It suggests that going back to school could help you refine your skills and expertise.\\n\\n3. The Tower (reversed): In its reversed position, this card can indicate personal transformation and fear of change. It might be suggesting that going back to school could be a significant change, but one that could lead to personal growth and transformation.\\n\\nThe cards suggest that furthering your education could be a positive path for you, as indicated by The Hierophant and the Eight of Pentacles. However, The Tower reversed reminds you that this could be a significant change in your life. It's important to weigh the benefits against the potential challenges such as time commitment, financial implications, and lifestyle changes. If the potential personal growth and skill development outweigh the challenges, then going back to school could be a rewarding decision.\", \"prompt\\n-----------\\nI've been feeling stuck in my career lately. What steps should I take to move forward?\\n-----------\\n\\nresponse\\n-----------\\nLet's turn to the tarot cards for guidance.\\n\\n1. The Hanged Man (upright): This card symbolizes pause, surrender, and new perspectives. It suggests that it might be beneficial to take some time to reflect on your career and consider different perspectives.\\n\\n2. The Eight of Pentacles (upright): This card represents hard work, dedication, and mastery. It suggests that you might need to further develop your skills or learn new ones to advance in your career.\\n\\n3. The Fool (reversed): In its reversed position, this card can indicate recklessness or taking uncalculated risks. It might be suggesting that while it's important to take steps to move forward, it's equally important to make well-considered decisions.\\n\\nThe cards suggest that reflection and skill development are key to moving forward in your career, as indicated by The Hanged Man and Eight of Pentacles. However, The Fool reversed advises caution against reckless decisions. Consider taking some time to reflect on your career goals, invest in skill development, and make well-considered decisions about your career path.\", \"prompt\\n-----------\\nI've been having a difficult time with my family recently. How can we improve our relationship?\\n-----------\\n\\nresponse\\n-----------\\nLet's seek guidance from the tarot cards.\\n\\n1. Ten of Cups (reversed): This card can indicate disharmony or misalignment within a family. It suggests that there might be some unresolved issues that need to be addressed.\\n\\n2. The Hierophant (reversed): In its reversed position, this card can represent non-conformity and questioning traditional beliefs. It might be suggesting that you or your family members need to be open to different perspectives and ways of thinking.\\n\\n3. Temperance (upright): This card represents balance, patience, and moderation. It suggests that patience and understanding are needed to bring balance into your family relationship.\\n\\nThe cards suggest that there might be some unresolved issues in your family, as indicated by the Ten of Cups reversed. The Hierophant reversed suggests the need for openness to different perspectives. The Temperance card advises patience and understanding. It's important to address any issues openly and honestly, and strive for understanding and patience in your interactions.\", \"prompt\\n-----------\\nI've been considering going back to school for further studies. What should I consider?\\n-----------\\n\\nresponse\\n-----------\\nLet's consult the tarot cards for guidance.\\n\\n1. The Hierophant (upright): This card represents education, tradition, and shared values. It suggests that further studies could be beneficial for you.\\n\\n2. Seven of Pentacles (reversed): In its reversed position, this card can indicate impatience and lack of reward. It might be suggesting that you need to consider the time and effort required for further studies, and whether you're ready for this commitment.\\n\\n3. The Star (upright): This card symbolizes hope, faith, and inspiration. It suggests that pursuing further studies could lead to personal growth and open up new opportunities.\\n\\nThe cards suggest that further studies could be beneficial for you, as indicated by The Hierophant. However, the Seven of Pentacles reversed reminds you to consider the time and effort required, and whether you're ready for this commitment. The Star gives a message of hope and inspiration, suggesting that further studies could lead to personal growth and new opportunities. Consider these aspects carefully before making your decision.\", \"prompt\\n-----------\\nI've been feeling stuck in my career lately. What should I consider to move forward?\\n-----------\\n\\nresponse\\n-----------\\nLet's see what the tarot cards suggest.\\n\\n1. Eight of Swords (upright): This card represents feelings of restriction and being stuck. It may be suggesting that your feelings of being stuck in your career are more mental than factual.\\n\\n2. Wheel of Fortune (upright): This card symbolizes change, cycles, and unexpected events. It might be suggesting that a change is coming, or that you need to make a change to move forward.\\n\\n3. The Fool (upright): This card represents new beginnings, opportunities, and faith in the universe. It suggests that taking a leap of faith might lead to new opportunities.\\n\\nThe cards suggest that your feelings of being stuck might be more of a mental state, as indicated by the Eight of Swords. The Wheel of Fortune suggests that a change is needed to break free from this state. The Fool encourages you to take a leap of faith towards new opportunities. It's important to consider what changes you can make in your career, and be open to new opportunities.\", \"prompt\\n-----------\\nI'm considering moving to a new city for a job offer. What should I consider?\\n-----------\\n\\nresponse\\n-----------\\nLet's see what guidance the tarot cards offer.\\n\\n1. The Chariot (upright): This card represents determination, direction, and control. It suggests that you have the drive and determination to make this move successful.\\n\\n2. Two of Wands (upright): This card represents planning, future possibilities, and progress. It suggests that this move could open up new opportunities for you.\\n\\n3. The Tower (reversed): In its reversed position, this card can indicate personal transformation and fear of change. It might be suggesting that while this move could be a significant change, it could lead to personal growth and transformation.\\n\\nThe cards suggest that you have the determination to make this move successful, as indicated by The Chariot. The Two of Wands suggests that this move could open up new opportunities for you. However, The Tower reversed reminds you that this could be a significant change in your life. It's important to weigh the benefits against the potential challenges such as adapting to a new environment, social changes, and potential homesickness. If the potential personal growth and new opportunities outweigh the challenges, then the move could be a rewarding decision.\", \"prompt\\n-----------\\nI'm contemplating leaving my current job but I'm afraid. What should I consider?\\n-----------\\n\\nresponse\\n-----------\\nLet's consult the tarot cards for guidance.\\n\\n1. Eight of Cups (upright): This card represents moving on and personal growth. It suggests that leaving your current job might lead to personal growth and new opportunities.\\n\\n2. The Tower (reversed): In its reversed position, this card can indicate fear of change and personal transformation. It might be suggesting that you are apprehensive about the upheaval that leaving your job can cause.\\n\\n3. The Star (upright): This card represents hope, faith, and rejuvenation. It suggests that there's hope and positive outcomes in the future.\\n\\nThe cards suggest that leaving your current job could lead to personal growth and new opportunities, as indicated by the Eight of Cups. However, The Tower reversed indicates that you might be fearing the change. The Star assures you that there's hope and positive outcomes in the future. It's important to weigh these factors and make the decision that aligns with your personal and professional growth.\", \"prompt\\n-----------\\nI'm considering going back to school for a higher degree. What should I think about?\\n-----------\\n\\nresponse\\n-----------\\nLet's see what the tarot cards suggest.\\n\\n1. The Hierophant (upright): This card represents education, tradition, and conformity. It suggests that pursuing higher education could be a beneficial path for you.\\n\\n2. Eight of Pentacles (upright): This card represents dedication, mastery, and upskilling. It suggests that you're willing to put in the effort to learn and improve.\\n\\n3. The Star (reversed): In its reversed position, this card can indicate despair or lack of faith. It might be suggesting that you're feeling uncertain or doubtful about your decision.\\n\\nThe cards suggest that pursuing higher education could be a beneficial path for you, as indicated by The Hierophant. The Eight of Pentacles suggests that you're willing to put in the effort to learn and improve. However, The Star reversed suggests that you might be feeling uncertain or doubtful about your decision. It's important to address these feelings and consider whether the commitment and effort required for a higher degree align with your long-term goals.\", \"prompt\\n-----------\\nI've been thinking about starting my own business. What should I keep in mind?\\n-----------\\n\\nresponse\\n-----------\\nLet's consult the tarot cards for some insights.\\n\\n1. The Magician (upright): This card represents resourcefulness, power, and inspired action. It suggests that you have the skills and abilities required to start your own business.\\n\\n2. Seven of Wands (upright): This card represents challenge, competition, and perseverance. It indicates that there will be challenges and competition along the way, but with perseverance, you can overcome them.\\n\\n3. The Wheel of Fortune (reversed): In its reversed position, this card can indicate bad luck or resistance to change. It might be suggesting that there could be ups and downs in this journey, and you need to be prepared for them.\\n\\nThe cards suggest that you have the skills and abilities to start your own business, as indicated by The Magician. However, the Seven of Wands reminds you that there will be challenges and competition, and you need to be prepared to persevere. The Wheel of Fortune reversed indicates potential ups and downs, suggesting a need to be flexible and adaptable. Consider these factors and prepare yourself for the journey ahead.\", \"prompt\\n-----------\\nI've been feeling stuck in my personal growth. How can I move forward?\\n-----------\\n\\nresponse\\n-----------\\nLet's see what the tarot cards suggest.\\n\\n1. The Hanged Man (upright): This card represents pause, surrender, and new perspectives. It suggests that you may need to let go of old ways of thinking and see things from a different perspective.\\n\\n2. The Death card (reversed): In its reversed position, this card represents resistance to change and transformation. It might be suggesting that you are resisting necessary changes for your growth.\\n\\n3. The Fool (upright): This card symbolizes new beginnings, risk, and adventure. It suggests that stepping into the unknown and taking risks might be necessary for your personal growth.\\n\\nThe cards suggest that you may need to let go of old ways of thinking and embrace new perspectives, as indicated by The Hanged Man. The Death card reversed suggests that you might be resisting necessary changes. The Fool advises you to embrace new beginnings and take risks. It might be time to step out of your comfort zone and embrace change for your personal growth.\", \"prompt\\n-----------\\nI'm thinking about adopting a pet. What should I consider?\\n-----------\\n\\nresponse\\n-----------\\nLet's consult the tarot cards for guidance.\\n\\n1. The Empress (upright): This card represents nurturing, care, and abundance. It suggests that you have the capacity to provide a loving and caring environment for a pet.\\n\\n2. Nine of Pentacles (upright): This card represents self-sufficiency, independence, and abundance. It suggests that you are in a position to take care of a pet both emotionally and financially.\\n\\n3. The Hanged Man (reversed): In its reversed position, this card can indicate stagnation and delay. It might be suggesting that you need to consider the time and commitment required for pet ownership.\\n\\nThe cards suggest that you have the capacity and resources to take care of a pet, as indicated by The Empress and the Nine of Pentacles. However, The Hanged Man reversed reminds you to consider the time and commitment required. It's important to ensure that you're ready for the responsibility and that your lifestyle can accommodate a pet. Consider these aspects carefully before making your decision.\", \"prompt\\n-----------\\nI've been feeling a bit lost lately and unsure about my life's direction. What should I do?\\n-----------\\n\\nresponse\\n-----------\\nLet's see what the tarot cards suggest.\\n\\n1. The High Priestess (upright): This card represents intuition, subconscious, and divine knowledge. It suggests that you should trust your instincts and intuition in guiding your life's direction.\\n\\n2. The Hermit (upright): This card represents introspection, soul-searching, and inner guidance. It suggests that spending some time in solitude and introspection could help you understand your desires and goals better.\\n\\n3. The Star (reversed): In its reversed position, this card can indicate lack of faith and despair. It might be suggesting that you're feeling lost because you've lost faith in yourself or your path.\\n\\nThe cards suggest that introspection and trusting your intuition are key to finding your direction, as indicated by The High Priestess and The Hermit. However, The Star reversed indicates that you might be feeling lost because of a lack of faith in yourself or your path. Remember to believe in yourself and your abilities. Consider taking some time for introspection to understand your desires and goals better, and trust your instincts to guide you.\", \"prompt\\n-----------\\nI've been thinking about moving to a new city for a fresh start. What should I consider?\\n-----------\\n\\nresponse\\n-----------\\nLet's see what the tarot cards suggest.\\n\\n1. The Fool (upright): This card represents new beginnings, spontaneity, and faith in the universe. It suggests that moving to a new city could be an exciting new journey for you.\\n\\n2. The Tower (reversed): This card, when reversed, indicates avoiding disaster or fear of change. It might be suggesting that you have some fears or concerns about this big change.\\n\\n3. Ten of Pentacles (upright): This card represents wealth, financial security, and family. It suggests that this move could potentially lead to financial security and a fulfilling personal life.\\n\\nThe cards suggest that moving to a new city could be an exciting new journey, as indicated by The Fool. However, The Tower reversed suggests that you might have some fears or concerns about this big change. It's important to address these fears before making a decision. The Ten of Pentacles suggests that this move could potentially lead to financial security and a fulfilling personal life. Consider these aspects carefully before making your decision.\", \"prompt\\n-----------\\nI've been feeling disconnected from my partner recently. How can we improve our relationship?\\n-----------\\n\\nresponse\\n-----------\\nLet's consult the tarot cards for guidance.\\n\\n1. The Lovers (upright): This card represents love, harmony, and relationships. It suggests that there is still a strong bond between you and your partner.\\n\\n2. Five of Cups (reversed): In its reversed position, this card represents recovery and forgiveness. It might be suggesting that you need to let go of past issues and focus on the present.\\n\\n3. Two of Cups (upright): This card represents mutual attraction and connection. It indicates a strong bond and suggests that open communication can help strengthen your relationship.\\n\\nThe cards suggest that there is a strong connection between you and your partner, as indicated by The Lovers and the Two of Cups. However, the Five of Cups reversed suggests that there might be past issues that need to be resolved. Open communication, forgiveness, and focusing on the present can help improve your relationship. It's also important to remember that all relationships have ups and downs, and it's through these challenges that we grow and strengthen our bonds.\", \"prompt\\n-----------\\nI'm in a creative slump and can't seem to find inspiration. What should I do?\\n-----------\\n\\nresponse\\n-----------\\nLet's see what guidance the tarot cards can provide.\\n\\n1. The Empress (upright): This card represents creativity, nature, and abundance. It suggests that you should seek inspiration in nature and the world around you.\\n\\n2. Four of Cups (reversed): In its reversed position, this card can indicate new awareness and new perspectives. It might be suggesting that you need to change your perspective or approach to find inspiration.\\n\\n3. The Wheel of Fortune (upright): This card represents change, cycles, and inevitable fate. It suggests that creative slumps are natural and change is inevitable. Your inspiration will return.\\n\\nThe cards suggest that seeking inspiration in nature and changing your perspective might help you overcome your creative slump, as indicated by The Empress and Four of Cups reversed. The Wheel of Fortune assures you that creative slumps are part of the creative cycle and your inspiration will return. Consider seeking inspiration from different sources and remember that it's okay to have periods of low creativity.\", \"prompt\\n-----------\\nI've been feeling very stressed and overwhelmed lately. What should I do to cope better?\\n-----------\\n\\nresponse\\n-----------\\nLet's see what the tarot cards suggest.\\n\\n1. Four of Swords (upright): This card represents rest, relaxation, and recuperation. It suggests that you should take some time out for yourself to rest and recharge.\\n\\n2. The Hermit (upright): This card represents solitude, introspection, and contemplation. It might be suggesting that spending some time in solitude and introspection could help you manage your stress better.\\n\\n3. Strength (reversed): In its reversed position, this card can indicate self-doubt and lack of self-discipline. It might be suggesting that you need to build your resilience and manage your stress better.\\n\\nThe cards suggest that rest and introspection are key to managing your stress, as indicated by the Four of Swords and The Hermit. However, Strength reversed suggests that you might be doubting your ability to cope. Remember to believe in yourself and your abilities, and consider seeking professional help if necessary. Self-care, rest, and introspection can help you manage your stress better.\", \"prompt\\n-----------\\nI'm considering moving to a new city for a job opportunity. What should I consider?\\n-----------\\n\\nresponse\\n-----------\\nLet's consult the tarot cards for guidance.\\n\\n1. Three of Wands (upright): This card represents planning, foresight, and expansion. It suggests that this move could open up new opportunities for you.\\n\\n2. The Chariot (reversed): In its reversed position, this card can indicate lack of control and direction. It might be suggesting that you need to have a clear plan and direction before making the move.\\n\\n3. Ten of Cups (upright): This card represents happiness, joy, and emotional fulfillment. It indicates that this move could bring you happiness and fulfillment.\\n\\nThe cards suggest that this move could open up new opportunities and bring you happiness, as indicated by the Three of Wands and the Ten of Cups. However, The Chariot reversed reminds you to have a clear plan and direction before making the move. Consider these factors and make sure to plan carefully. Remember that while moving can be challenging, it can also open up new opportunities and experiences.\", \"prompt\\n-----------\\nI've been considering asking my long-term partner to move in with me. What should I think about before making this decision?\\n-----------\\n\\nresponse\\n-----------\\nLet's see what the tarot cards suggest.\\n\\n1. The Lovers (upright): This card represents love, harmony, and partnership. It suggests that your relationship is grounded in mutual love and respect, which is a good foundation for moving in together.\\n\\n2. Four of Wands (upright): This card symbolizes home, community, and celebration. It suggests that living together could bring joy and further strengthen your relationship.\\n\\n3. The Moon (reversed): In its reversed position, this card can indicate fear and misunderstanding. It might be suggesting that there could be hidden fears or insecurities about this big step.\\n\\nThe cards suggest that your relationship has a strong foundation, as indicated by The Lovers, and that moving in together could bring joy and deepen your bond, as suggested by the Four of Wands. However, The Moon reversed indicates that you might have some fears or insecurities about this step. It's important to communicate openly with your partner about any concerns before making this decision.\", \"prompt\\n-----------\\nI'm in a new relationship and I'm wondering where it's heading. What should I expect?\\n-----------\\n\\nresponse\\n-----------\\nLet's consult the tarot cards for guidance.\\n\\n1. Two of Cups (upright): This card represents mutual attraction, connection, and partnership. It suggests that your new relationship has a strong foundation of mutual respect and attraction.\\n\\n2. The Lovers (upright): This card represents love, harmony, and relationships. It suggests that your relationship may progress towards a deeper emotional connection.\\n\\n3. Ten of Swords (reversed): In its reversed position, this card can signify recovery, regeneration, and resisting an inevitable end. It might be suggesting that there could be challenges ahead, but there's also an opportunity for overcoming them.\\n\\nThe cards suggest that your relationship has a strong foundation, as indicated by the Two of Cups and The Lovers. However, the Ten of Swords reversed suggests that there might be challenges ahead. It's important to be open and communicative with your partner, and face any challenges together. Remember, overcoming challenges together can often strengthen a relationship.\", \"prompt\\n-----------\\nI've been offered a job in a different city, but I'm not sure if I should take it. What should I do?\\n-----------\\n\\nresponse\\n-----------\\nLet's consult the tarot for guidance.\\n\\n1. The World (upright): This card represents completion, accomplishment, and travel. It suggests that taking this job could lead to significant personal and professional growth.\\n\\n2. Five of Wands (reversed): In its reversed position, this card can indicate conflict avoidance and seeking peace. It might suggest that you're feeling conflicted about this decision, but it's important to remember that it's okay to prioritize your peace and happiness.\\n\\n3. The High Priestess (upright): This card represents intuition, secrets, and mystery. It suggests that you might need to rely on your intuition when making this decision.\\n\\nThe cards suggest that taking this job could lead to significant growth, as indicated by The World. However, the Five of Wands reversed suggests that you might be feeling conflicted about this decision. The High Priestess advises you to trust your intuition when making this decision. Consider all options, consult your feelings, and make the decision that feels right for you.\", \"prompt\\n-----------\\nI've been feeling unfulfilled in my current job. Should I consider a career change?\\n-----------\\n\\nresponse\\n-----------\\nLet's consult the tarot cards for guidance.\\n\\n1. Five of Cups (upright): This card represents loss, grief, and disappointment. It suggests that you might be feeling unfulfilled or dissatisfied in your current job.\\n\\n2. The Wheel of Fortune (upright): This card symbolizes change, cycles, and unexpected events. It might be suggesting that a career change could bring a new cycle of opportunities.\\n\\n3. The Emperor (upright): This card represents authority, structure, and control over one's life. It suggests that you have the power to take control of your career and make the changes you desire.\\n\\nThe cards suggest that you might be feeling unfulfilled in your current job, as indicated by the Five of Cups. However, the Wheel of Fortune suggests that a career change could bring new opportunities. The Emperor reminds you that you have the power to make this change. Consider what you truly want in your career and take steps towards achieving that. Remember, you have the power to create a fulfilling career.\", \"prompt\\n-----------\\nI've been dealing with a lot of stress and anxiety lately. How can I find peace and balance?\\n-----------\\n\\nresponse\\n-----------\\nLet's see what guidance the tarot cards can provide.\\n\\n1. Four of Swords (upright): This card represents rest, relaxation, and taking a break. It suggests that taking some time for yourself could help alleviate your stress and anxiety.\\n\\n2. The Star (upright): This card symbolizes hope, faith, and rejuvenation. It suggests that maintaining a positive and hopeful outlook can help bring balance and peace.\\n\\n3. Temperance (upright): This card represents balance, moderation, and patience. It indicates that finding a balance in your life and practicing patience can bring peace.\\n\\nThe cards suggest that rest, a positive outlook, and balance are key to dealing with stress and anxiety, as indicated by the Four of Swords, The Star, and Temperance. Consider taking some time for yourself to relax and rejuvenate. Maintain a hopeful and positive outlook, and strive to find a balance in your life. Practicing patience with yourself and others can also bring peace. Remember, it's okay to seek help if you need it.\", \"prompt\\n-----------\\nI'm considering starting a new business. What should I take into account?\\n-----------\\n\\nresponse\\n-----------\\nLet's see what the tarot cards suggest.\\n\\n1. The Emperor (upright): This card represents authority, structure, and control, suggesting that a solid plan and clear organization are crucial for starting a new business.\\n\\n2. Seven of Pentacles (upright): This card symbolizes hard work, perseverance, and patience. It suggests that starting a new business will require patience and continuous effort.\\n\\n3. The Fool (reversed): In its reversed position, this card can indicate recklessness and risk-taking. It might be suggesting that you need to be careful and consider all potential risks before starting your business.\\n\\nThe cards suggest that a solid plan, patience, and a careful consideration of risks are crucial for starting a new business, as indicated by The Emperor, Seven of Pentacles, and The Fool reversed. Consider creating a detailed business plan and be prepared for continuous effort and patience. Be careful of potential risks and make sure to consider all aspects before making a decision. Remember, starting a new business is a big step, but with careful planning and dedication, it can be a rewarding journey.\", \"prompt\\n-----------\\nI'm considering ending a long-term relationship. What should I consider?\\n-----------\\n\\nresponse\\n-----------\\nLet's see what the tarot cards suggest.\\n\\n1. Death (upright): This card represents endings, transformation, and new beginnings. It suggests that ending this relationship could lead to personal transformation and new beginnings.\\n\\n2. Three of Swords (upright): This card represents heartbreak, sorrow, and grief. It suggests that this decision could be emotionally difficult and painful.\\n\\n3. The Star (reversed): In its reversed position, this card can indicate despair, lack of faith, and discouragement. It might be suggesting that you're feeling hopeless about the relationship.\\n\\nThe cards suggest that ending this relationship could lead to personal transformation and new beginnings, as indicated by the Death card. However, the Three of Swords and The Star reversed remind you that this decision could be emotionally difficult and you might be feeling hopeless. It's important to consider your emotional well-being and seek professional help if needed. Remember, endings also signify new beginnings and personal growth.\", \"prompt\\n-----------\\nI've been feeling unfulfilled in my current job. Should I consider a career change?\\n-----------\\n\\nresponse\\n-----------\\nLet's see what the tarot cards suggest.\\n\\n1. Eight of Cups (upright): This card represents moving on, change, and personal growth. It might be suggesting that it's time for you to seek something more fulfilling.\\n\\n2. The Tower (reversed): In its reversed position, this card can indicate fear of change or upheaval. It suggests that you might be apprehensive about the instability that a career change could bring.\\n\\n3. The Sun (upright): This card symbolizes success, joy, and positivity. It suggests a positive outcome and a brighter future ahead.\\n\\nThe cards suggest that it might be time for you to seek something more fulfilling, as indicated by the Eight of Cups. The Tower reversed indicates that you might be fearing the change, but The Sun suggests a positive outcome. It's important to weigh the potential instability against the possibility of finding a more fulfilling career. If the potential for fulfillment and joy outweighs the fear of change, then a career change could be a positive step for you.\", \"prompt\\n-----------\\nI've been feeling unfulfilled at my current job. Should I consider a career change?\\n-----------\\n\\nresponse\\n-----------\\nLet's see what the tarot cards suggest.\\n\\n1. Eight of Cups (upright): This card represents moving on, change, and transition. It suggests that it might be time for you to seek fulfillment elsewhere.\\n\\n2. The Fool (upright): This card represents new beginnings and opportunities. It suggests that a career change could open up new possibilities for you.\\n\\n3. Ten of Pentacles (reversed): In its reversed position, this card can indicate financial instability or lack of long-term security. It might be suggesting that you should consider the financial implications of a career change.\\n\\nThe cards suggest that a career change could bring new opportunities and fulfillment, as indicated by the Eight of Cups and The Fool. However, the Ten of Pentacles reversed advises you to consider the financial implications of such a change. It's important to balance your need for fulfillment with practical considerations. Making a career change is a significant decision, so take your time to reflect on your options and make the choice that best aligns with your personal and financial goals.\", \"prompt\\n-----------\\nI have an opportunity to travel abroad for work, but I'm not sure if I should take it. What should I consider?\\n-----------\\n\\nresponse\\n-----------\\nLet's turn to the tarot cards for guidance.\\n\\n1. The World (upright): This card represents completion, accomplishment, and travel. It suggests that this opportunity could lead to significant personal and professional growth.\\n\\n2. Two of Wands (upright): This card represents planning, future anticipation, and progress. It suggests that you should consider your long-term career plans and how this opportunity fits into them.\\n\\n3. The Tower (reversed): In its reversed position, this card can indicate personal transformation and fear of change. It might be suggesting that you are apprehensive about the upheaval that this opportunity can cause.\\n\\nThe cards suggest that this opportunity could lead to significant growth, as indicated by The World. The Two of Wands encourages you to consider your long-term career plans. However, The Tower reversed indicates that you might be fearing the change. It's important to weigh these factors and make the decision that aligns with your personal and professional growth.\", \"prompt\\n-----------\\nI'm considering going back to school for a higher degree. What should I consider?\\n-----------\\n\\nresponse\\n-----------\\nLet's turn to the tarot cards for guidance.\\n\\n1. The Hierophant (upright): This card represents education, tradition, and conformity. It suggests that going back to school could be a good path for you, offering traditional knowledge and structure.\\n\\n2. Eight of Pentacles (reversed): In its reversed position, this card can indicate lack of focus or short-term focus. It might be suggesting that you need to consider if you're ready to commit to the long-term focus required for higher education.\\n\\n3. The Chariot (upright): This card represents willpower, determination, and drive. It suggests that with determination and willpower, you can successfully go back to school and achieve your goals.\\n\\nThe cards suggest that going back to school could be a good path for you, as indicated by The Hierophant. However, the Eight of Pentacles reversed advises you to consider if you're ready for the long-term commitment required. The Chariot suggests that with determination and willpower, you can achieve your goals. Consider these factors and make sure you're ready for the commitment before making your decision.\", \"prompt\\n-----------\\nI've been thinking about starting a new business, but I'm scared of failing. What should I consider?\\n-----------\\n\\nresponse\\n-----------\\nLet's consult the tarot cards for advice.\\n\\n1. The Fool (upright): This card represents new beginnings, faith, and spontaneity. It suggests that starting a new business could be an exciting new journey for you.\\n\\n2. Nine of Swords (upright): This card symbolizes worry, fear, and anxiety. It indicates that your fear of failure might be causing you undue stress and worry.\\n\\n3. The Wheel of Fortune (upright): This card represents change, cycles, and unexpected events. It suggests that while there might be ups and downs in this journey, change is a part of life and can lead to growth and learning.\\n\\nThe cards suggest that starting a new business could be a rewarding journey, as indicated by The Fool. However, the Nine of Swords suggests that your fear of failure might be causing you stress. The Wheel of Fortune reminds you that while there might be ups and downs, change is a part of life and can lead to growth. Consider these aspects and make sure you're ready to embrace the challenges and rewards that come with starting a business.\", \"prompt\\n-----------\\nI've been feeling unfulfilled in my current job. What should I consider for my next steps?\\n-----------\\n\\nresponse\\n-----------\\nLet's see what the tarot cards suggest.\\n\\n1. Eight of Cups (upright): This card represents walking away, disillusionment, and leaving behind. It suggests that you might need to leave your current job to find something more fulfilling.\\n\\n2. The Wheel of Fortune (reversed): In its reversed position, this card can indicate bad luck and resistance to change. It might be suggesting that you're feeling stuck due to fear of change or uncertainty about the future.\\n\\n3. Three of Pentacles (upright): This card represents teamwork, collaboration, and learning. It suggests that a job where you can collaborate with others and continue to learn could bring you fulfillment.\\n\\nThe cards suggest that you might need to leave your current job to find something more fulfilling, as indicated by the Eight of Cups. The Wheel of Fortune reversed suggests that you might be feeling stuck due to fear of change or uncertainty about the future. The Three of Pentacles suggests that a job where you can collaborate with others and continue to learn could bring you fulfillment. Consider these aspects carefully before making your next move.\", \"prompt\\n-----------\\nI've been working hard to launch my own business, but progress has been slow. What should I do to ensure success?\\n-----------\\n\\nresponse\\n-----------\\nLet's consult the tarot cards for guidance.\\n\\n1. The Magician (upright): This card represents resourcefulness, power, and inspired action. It suggests that you have all the skills and resources necessary to make your business successful.\\n\\n2. Seven of Pentacles (upright): This card represents hard work, perseverance, and patience. It indicates that success often comes after a period of hard work and patience.\\n\\n3. The Wheel of Fortune (reversed): In its reversed position, this card can indicate bad luck or resistance to change. It might be suggesting that you need to be open to changes and adapt as necessary.\\n\\nThe cards suggest that you have the resources and skills to make your business successful, as indicated by The Magician. The Seven of Pentacles suggests that success often comes after a period of hard work and patience. However, The Wheel of Fortune reversed advises you to be open to changes and adapt as necessary. Remember that success often takes time and patience, and being adaptable and open to change can help ensure your business's success.\", \"prompt\\n-----------\\nI've been feeling stuck in my career. What can I do to progress and find fulfillment?\\n-----------\\n\\nresponse\\n-----------\\nLet's consult the tarot cards for guidance.\\n\\n1. The Hanged Man (upright): This card represents pause, surrender, and new perspectives. It suggests that you might need to take a step back to gain a new perspective on your career.\\n\\n2. The Emperor (upright): This card represents authority, structure, and control. It suggests that taking control of your career and creating a structured plan can help you progress.\\n\\n3. The Six of Swords (upright): This card represents transition, change, and moving on. It suggests that moving on from the current situation could lead to progress and fulfillment.\\n\\nThe cards suggest that taking a step back and gaining a new perspective on your career could be beneficial, as indicated by The Hanged Man. The Emperor suggests that taking control and creating a structured plan can help. The Six of Swords indicates that moving on from the current situation could lead to progress and fulfillment. It's important to consider these factors and make the changes necessary to find fulfillment in your career.\", \"prompt\\n-----------\\nI've been feeling a bit lost and aimless lately. What should I do to find my path?\\n-----------\\n\\nresponse\\n-----------\\nLet's consult the tarot cards for guidance.\\n\\n1. The Hermit (upright): This card represents introspection, soul-searching, and seeking answers from within. It suggests that spending some time in solitude and introspection could help you understand your feelings better.\\n\\n2. The Star (reversed): This card in its reversed position indicates lost hope and lack of faith. It might be suggesting that you are currently feeling disconnected from your inner guidance or intuition.\\n\\n3. The Wheel of Fortune (upright): This card represents change, cycles, and unexpected events. It suggests that life is full of changes and it's important to adapt and grow with these changes.\\n\\nThe cards suggest that introspection could help you understand your feelings, as indicated by The Hermit. The Star reversed suggests that you might be feeling disconnected from your inner guidance. The Wheel of Fortune indicates that life is full of changes and it's important to adapt. It's okay to feel lost sometimes, it's part of life's journey. Take some time for introspection, reconnect with your inner self, and be open to change. You'll find your path.\", \"prompt\\n-----------\\nI'm considering going back to school to further my education. Is this a good idea?\\n-----------\\n\\nresponse\\n-----------\\nLet's consult the tarot cards for guidance.\\n\\n1. The Hierophant (upright): This card represents education, tradition, and belief systems. It suggests that going back to school could be a beneficial step for you.\\n\\n2. Eight of Pentacles (upright): This card represents hard work, dedication, and mastery. It indicates that you are ready to put in the effort required to further your education.\\n\\n3. The Star (upright): This card symbolizes hope, faith, and purpose. It suggests that pursuing further education could lead you towards your ultimate goals and aspirations.\\n\\nBased on these cards, it seems that going back to school could be a beneficial step for you. The Hierophant suggests that education could lead to growth, while the Eight of Pentacles indicates your readiness to put in the hard work. The Star card suggests that this path could lead you towards your goals. Consider these aspects carefully and make a decision that aligns with your personal and professional aspirations.\", \"prompt\\n-----------\\nI've been feeling disconnected from my partner recently. What should I do to improve our relationship?\\n-----------\\n\\nresponse\\n-----------\\nLet's turn to the tarot cards for guidance.\\n\\n1. The Lovers (upright): This card represents love, harmony, and relationships. It suggests that your relationship is important and worth investing in.\\n\\n2. Five of Pentacles (reversed): This card in its reversed position signifies recovery and renewed mindset. It suggests that you can overcome the current issues in your relationship through understanding and communication.\\n\\n3. The Queen of Cups (upright): This card represents compassion, emotional stability, and loving care. It suggests that nurturing your emotional connection with your partner can help improve your relationship.\\n\\nBased on these cards, it seems that your relationship is important and worth investing in. The Five of Pentacles reversed suggests that you can overcome the current issues through understanding and communication, while the Queen of Cups indicates that nurturing your emotional connection can help improve your relationship. Consider these insights and take steps to reconnect with your partner. Open communication, understanding, and emotional care can help you strengthen your bond.\", \"prompt\\n-----------\\nI've been considering starting my own business. What factors should I consider?\\n-----------\\n\\nresponse\\n-----------\\nLet's turn to the tarot cards for advice.\\n\\n1. Three of Wands (upright): This card represents planning, foresight, and expansion. It suggests that careful planning and foresight are crucial for starting a successful business.\\n\\n2. Seven of Pentacles (upright): This card symbolizes patience, long-term view, and investment. It suggests that starting a business requires patience and a long-term investment of your time and resources.\\n\\n3. The Tower (reversed): In its reversed position, this card can indicate personal transformation and fear of change. It might be suggesting that starting your own business could be a significant change, but one that could lead to personal growth and transformation.\\n\\nThe cards suggest that careful planning, patience, and long-term investment are crucial factors to consider when starting your own business, as indicated by the Three of Wands and the Seven of Pentacles. However, The Tower reversed reminds you that this could be a significant change in your life. It's important to weigh the benefits against the potential challenges such as financial risks, time commitment, and potential for failure. If the potential personal growth and transformation outweigh the challenges, then starting your own business could be a rewarding decision.\"]\n"
          ]
        }
      ],
      "source": [
        "import os\n",
        "import openai\n",
        "import random\n",
        "from tenacity import retry, stop_after_attempt, wait_exponential\n",
        "\n",
        "openai.api_key = \"USE YOUR OWN KEY! thanks.\"\n",
        "\n",
        "N_RETRIES = 3\n",
        "\n",
        "@retry(stop=stop_after_attempt(N_RETRIES), wait=wait_exponential(multiplier=1, min=4, max=70))\n",
        "def generate_example(prompt, prev_examples, temperature=.5):\n",
        "    messages=[\n",
        "        {\n",
        "            \"role\": \"system\",\n",
        "            \"content\": f\"You are generating data which will be used to train a machine learning model.\\n\\nYou will be given a high-level description of the model we want to train, and from that, you will generate data samples, each with a prompt/response pair.\\n\\nYou will do so in this format:\\n```\\nprompt\\n-----------\\n$prompt_goes_here\\n-----------\\n\\nresponse\\n-----------\\n$response_goes_here\\n-----------\\n```\\n\\nOnly one prompt/response pair should be generated per turn.\\n\\nFor each turn, make the example slightly more complex than the last, while ensuring diversity.\\n\\nMake sure your samples are unique and diverse, yet high-quality and complex enough to train a well-performing model.\\n\\nHere is the type of model we want to train:\\n`{prompt}`\"\n",
        "        }\n",
        "    ]\n",
        "\n",
        "    if len(prev_examples) > 0:\n",
        "        if len(prev_examples) > 8:\n",
        "            prev_examples = random.sample(prev_examples, 8)\n",
        "        for example in prev_examples:\n",
        "            messages.append({\n",
        "                \"role\": \"assistant\",\n",
        "                \"content\": example\n",
        "            })\n",
        "\n",
        "    response = openai.chat.completions.create(\n",
        "        model=\"gpt-4\",\n",
        "        messages=messages,\n",
        "        temperature=temperature,\n",
        "        max_tokens=1000,\n",
        "    )\n",
        "\n",
        "    return response.choices[0].message.content\n",
        "\n",
        "# Generate examples\n",
        "prev_examples = []\n",
        "for i in range(number_of_examples):\n",
        "    print(f'Generating example {i}')\n",
        "    example = generate_example(prompt, prev_examples, temperature)\n",
        "    prev_examples.append(example)\n",
        "\n",
        "print(prev_examples)"
      ]
    },
    {
      "cell_type": "markdown",
      "metadata": {
        "id": "KC6iJzXjugJ-"
      },
      "source": [
        "We also need to generate a system message."
      ]
    },
    {
      "cell_type": "code",
      "execution_count": null,
      "metadata": {
        "colab": {
          "base_uri": "https://localhost:8080/"
        },
        "id": "xMcfhW6Guh2E",
        "outputId": "6e61719e-7684-48cd-eaa5-625e2e8e987c"
      },
      "outputs": [
        {
          "name": "stdout",
          "output_type": "stream",
          "text": [
            "The system message is: `Given your question, the model will draw three tarot cards, interpret their meanings based on their positions and orientations, and provide a detailed response offering insights and advice as interpreted by the cards.`. Feel free to re-run this cell if you want a better result.\n"
          ]
        }
      ],
      "source": [
        "def generate_system_message(prompt):\n",
        "\n",
        "    response = openai.chat.completions.create(\n",
        "        model=\"gpt-4\",\n",
        "        messages=[\n",
        "          {\n",
        "            \"role\": \"system\",\n",
        "            \"content\": \"You will be given a high-level description of the model we are training, and from that, you will generate a simple system prompt for that model to use. Remember, you are not generating the system message for data generation -- you are generating the system message to use for inference. A good format to follow is `Given $INPUT_DATA, you will $WHAT_THE_MODEL_SHOULD_DO.`.\\n\\nMake it as concise as possible. Include nothing but the system prompt in your response.\\n\\nFor example, never write: `\\\"$SYSTEM_PROMPT_HERE\\\"`.\\n\\nIt should be like: `$SYSTEM_PROMPT_HERE`.\"\n",
        "          },\n",
        "          {\n",
        "              \"role\": \"user\",\n",
        "              \"content\": prompt.strip(),\n",
        "          }\n",
        "        ],\n",
        "        temperature=temperature,\n",
        "        max_tokens=500,\n",
        "    )\n",
        "\n",
        "    return response.choices[0].message.content\n",
        "\n",
        "system_message = generate_system_message(prompt)\n",
        "\n",
        "print(f'The system message is: `{system_message}`. Feel free to re-run this cell if you want a better result.')"
      ]
    },
    {
      "cell_type": "markdown",
      "metadata": {
        "id": "G6BqZ-hjseBF"
      },
      "source": [
        "Now let's put our examples into a dataframe and turn them into a final pair of datasets."
      ]
    },
    {
      "cell_type": "code",
      "execution_count": null,
      "metadata": {
        "colab": {
          "base_uri": "https://localhost:8080/"
        },
        "id": "7CEdkYeRsdmB",
        "outputId": "31655592-e0c8-460a-de2d-d077d2639eef"
      },
      "outputs": [
        {
          "name": "stdout",
          "output_type": "stream",
          "text": [
            "There are 50 successfully-generated examples.\n"
          ]
        }
      ],
      "source": [
        "import json\n",
        "import pandas as pd\n",
        "\n",
        "# Initialize lists to store prompts and responses\n",
        "prompts = []\n",
        "responses = []\n",
        "\n",
        "# Parse out prompts and responses from examples\n",
        "for example in prev_examples:\n",
        "  try:\n",
        "    split_example = example.split('-----------')\n",
        "    prompts.append(split_example[1].strip())\n",
        "    responses.append(split_example[3].strip())\n",
        "  except:\n",
        "    pass\n",
        "\n",
        "# Create a DataFrame\n",
        "df = pd.DataFrame({\n",
        "    'prompt': prompts,\n",
        "    'response': responses\n",
        "})\n",
        "\n",
        "# Remove duplicates\n",
        "df = df.drop_duplicates()\n",
        "\n",
        "print('There are ' + str(len(df)) + ' successfully-generated examples.')\n",
        "\n",
        "# Initialize list to store training examples\n",
        "training_examples = []\n",
        "\n",
        "# Create training examples in the format required for GPT-3.5 fine-tuning\n",
        "for index, row in df.iterrows():\n",
        "    training_example = {\n",
        "        \"messages\": [\n",
        "            {\"role\": \"system\", \"content\": system_message.strip()},\n",
        "            {\"role\": \"user\", \"content\": row['prompt']},\n",
        "            {\"role\": \"assistant\", \"content\": row['response']}\n",
        "        ]\n",
        "    }\n",
        "    training_examples.append(training_example)\n",
        "\n",
        "# Save training examples to a .jsonl file\n",
        "with open('training_examples.jsonl', 'w') as f:\n",
        "    for example in training_examples:\n",
        "        f.write(json.dumps(example) + '\\n')"
      ]
    },
    {
      "cell_type": "markdown",
      "metadata": {
        "id": "KWTY6qVgXD_T"
      },
      "source": [
        "# Upload the file to OpenAI"
      ]
    },
    {
      "cell_type": "code",
      "execution_count": null,
      "metadata": {
        "id": "4LjEUrI9XDgT"
      },
      "outputs": [],
      "source": [
        "file_id = openai.files.create(\n",
        "  file=open(\"/content/training_examples.jsonl\", \"rb\"),\n",
        "  purpose='fine-tune'\n",
        ").id"
      ]
    },
    {
      "cell_type": "markdown",
      "metadata": {
        "id": "HmYRIq8dW9IR"
      },
      "source": [
        "# Train the model! You may need to wait a few minutes before running the next cell to allow for the file to process on OpenAI's servers."
      ]
    },
    {
      "cell_type": "code",
      "execution_count": null,
      "metadata": {
        "colab": {
          "base_uri": "https://localhost:8080/",
          "height": 35
        },
        "id": "rdEyXmkoW80I",
        "outputId": "8b697e68-f4f9-40db-be9a-a14624386fa1"
      },
      "outputs": [
        {
          "data": {
            "application/vnd.google.colaboratory.intrinsic+json": {
              "type": "string"
            },
            "text/plain": [
              "'ftjob-Fu8xYZwa8VJFFi1PC73SFg3o'"
            ]
          },
          "execution_count": 11,
          "metadata": {},
          "output_type": "execute_result"
        }
      ],
      "source": [
        "job = openai.fine_tuning.jobs.create(training_file=file_id, model=\"gpt-3.5-turbo\")\n",
        "\n",
        "job_id = job.id\n",
        "job_id"
      ]
    },
    {
      "cell_type": "markdown",
      "metadata": {
        "id": "XUSX5QzmZMTd"
      },
      "source": [
        "# Now, just wait until the fine-tuning run is done, and you'll have a ready-to-use model!\n",
        "\n",
        "Run this cell every 20 minutes or so -- eventually, you'll see a message \"New fine-tuned model created: ft:gpt-3.5-turbo-0613:xxxxxxxxxxxx\"\n",
        "\n",
        "Once you see that message, you can go to the OpenAI Playground (or keep going to the next cells and use the API) to try the model!"
      ]
    },
    {
      "cell_type": "code",
      "execution_count": null,
      "metadata": {
        "colab": {
          "base_uri": "https://localhost:8080/"
        },
        "id": "45DJZ7hHaBx0",
        "outputId": "3c4bc854-6922-4aef-d00e-80ceb5d90a29"
      },
      "outputs": [
        {
          "data": {
            "text/plain": [
              "SyncCursorPage[FineTuningJob](data=[FineTuningJob(id='ftjob-Fu8xYZwa8VJFFi1PC73SFg3o', created_at=1714344346, error=Error(code=None, message=None, param=None), fine_tuned_model=None, finished_at=None, hyperparameters=Hyperparameters(n_epochs=3, batch_size=1, learning_rate_multiplier=2), model='gpt-3.5-turbo-0125', object='fine_tuning.job', organization_id='org-KuRoRMw8RyLnGQ49e8urWThm', result_files=[], seed=709815897, status='running', trained_tokens=None, training_file='file-c3EYn3Uk9gvT64mKbesYFQR9', validation_file=None, integrations=[], user_provided_suffix=None, estimated_finish=None), FineTuningJob(id='ftjob-D78wceviF7FmOR8czskTjy6o', created_at=1714344329, error=Error(code=None, message=None, param=None), fine_tuned_model=None, finished_at=None, hyperparameters=Hyperparameters(n_epochs=3, batch_size=1, learning_rate_multiplier=2), model='gpt-3.5-turbo-0125', object='fine_tuning.job', organization_id='org-KuRoRMw8RyLnGQ49e8urWThm', result_files=[], seed=1853622978, status='running', trained_tokens=None, training_file='file-c3EYn3Uk9gvT64mKbesYFQR9', validation_file=None, integrations=[], user_provided_suffix=None, estimated_finish=None), FineTuningJob(id='ftjob-Ge90bVOdQd9C87rX2lwTHh9T', created_at=1714344293, error=Error(code=None, message=None, param=None), fine_tuned_model=None, finished_at=None, hyperparameters=Hyperparameters(n_epochs=3, batch_size=1, learning_rate_multiplier=2), model='gpt-3.5-turbo-0125', object='fine_tuning.job', organization_id='org-KuRoRMw8RyLnGQ49e8urWThm', result_files=[], seed=1170645495, status='running', trained_tokens=None, training_file='file-c3EYn3Uk9gvT64mKbesYFQR9', validation_file=None, integrations=[], user_provided_suffix=None, estimated_finish=None)], object='list', has_more=False)"
            ]
          },
          "execution_count": 12,
          "metadata": {},
          "output_type": "execute_result"
        }
      ],
      "source": [
        "openai.fine_tuning.jobs.list(limit=10)"
      ]
    },
    {
      "cell_type": "code",
      "execution_count": null,
      "metadata": {
        "colab": {
          "base_uri": "https://localhost:8080/"
        },
        "id": "zUL6wOZ64xzL",
        "outputId": "ed50eb0f-8662-47ad-d906-4e53c9c1e668"
      },
      "outputs": [
        {
          "data": {
            "text/plain": [
              "FineTuningJob(id='ftjob-Fu8xYZwa8VJFFi1PC73SFg3o', created_at=1714344346, error=Error(code=None, message=None, param=None), fine_tuned_model=None, finished_at=None, hyperparameters=Hyperparameters(n_epochs=3, batch_size=1, learning_rate_multiplier=2), model='gpt-3.5-turbo-0125', object='fine_tuning.job', organization_id='org-KuRoRMw8RyLnGQ49e8urWThm', result_files=[], seed=709815897, status='running', trained_tokens=None, training_file='file-c3EYn3Uk9gvT64mKbesYFQR9', validation_file=None, integrations=[], user_provided_suffix=None, estimated_finish=None)"
            ]
          },
          "execution_count": 14,
          "metadata": {},
          "output_type": "execute_result"
        }
      ],
      "source": [
        "openai.fine_tuning.jobs.retrieve(job_id)\n"
      ]
    },
    {
      "cell_type": "code",
      "execution_count": null,
      "metadata": {
        "colab": {
          "base_uri": "https://localhost:8080/",
          "height": 35
        },
        "id": "XmyW4aEE49WO",
        "outputId": "1569cec9-5f0d-4d96-a060-dec825f02047"
      },
      "outputs": [
        {
          "data": {
            "application/vnd.google.colaboratory.intrinsic+json": {
              "type": "string"
            },
            "text/plain": [
              "'succeeded'"
            ]
          },
          "execution_count": 16,
          "metadata": {},
          "output_type": "execute_result"
        }
      ],
      "source": [
        "openai.fine_tuning.jobs.retrieve(job_id).status"
      ]
    },
    {
      "cell_type": "markdown",
      "metadata": {
        "id": "91ihW2O27Phl"
      },
      "source": [
        "# Once your model is trained, run the next cell to grab the fine-tuned model name."
      ]
    },
    {
      "cell_type": "code",
      "execution_count": null,
      "metadata": {
        "colab": {
          "base_uri": "https://localhost:8080/"
        },
        "id": "eWBRBPh8aEzH",
        "outputId": "c29295ea-d480-4212-c9e1-d6585897a7a7"
      },
      "outputs": [
        {
          "name": "stdout",
          "output_type": "stream",
          "text": [
            "ft:gpt-3.5-turbo-0125:personal::9J7eW2F9\n"
          ]
        }
      ],
      "source": [
        "model_name_pre_object = openai.fine_tuning.jobs.retrieve(job_id)\n",
        "model_name = model_name_pre_object.fine_tuned_model\n",
        "print(model_name)"
      ]
    },
    {
      "cell_type": "markdown",
      "metadata": {
        "id": "2OmZLoBX7oQM"
      },
      "source": [
        "# Let's try it out!"
      ]
    },
    {
      "cell_type": "code",
      "execution_count": null,
      "metadata": {
        "id": "VXmEvS_o6joY"
      },
      "outputs": [],
      "source": [
        "class TarotDeck:\n",
        "    def __init__(self):\n",
        "        self.cards = [\n",
        "            'The Fool', 'The Magician', 'The High Priestess', 'The Empress', 'The Emperor',\n",
        "            'The Hierophant', 'The Lovers', 'The Chariot', 'Strength', 'The Hermit',\n",
        "            'Wheel of Fortune', 'Justice', 'The Hanged Man', 'Death', 'Temperance',\n",
        "            'The Devil', 'The Tower', 'The Star', 'The Moon', 'The Sun',\n",
        "            'Judgement', 'The World'\n",
        "        ] + [\n",
        "            f'{rank} of {suit}' for suit in ['Wands', 'Cups', 'Swords', 'Pentacles']\n",
        "            for rank in ['Ace', 'Two', 'Three', 'Four', 'Five', 'Six', 'Seven', 'Eight', 'Nine', 'Ten', 'Page', 'Knight', 'Queen', 'King']\n",
        "        ]\n",
        "        self.shuffled_deck = []\n",
        "\n",
        "    def shuffle_cards(self):\n",
        "        \"\"\"Shuffles the deck and assigns a random orientation to each card.\"\"\"\n",
        "        deck_with_orientation = [(card, random.choice(['upward', 'downward'])) for card in self.cards]\n",
        "        random.shuffle(deck_with_orientation)\n",
        "        self.shuffled_deck = deck_with_orientation\n",
        "\n",
        "    def draw_cards(self, num_cards=3):\n",
        "        \"\"\"Draws a specified number of cards from the deck.\"\"\"\n",
        "        return self.shuffled_deck[:num_cards]\n",
        "\n",
        "    def get_drawn_cards_info(self):\n",
        "        \"\"\"Returns only the three drawn cards and their orientations.\"\"\"\n",
        "        drawn_cards = self.draw_cards()\n",
        "        return [(card, orientation) for card, orientation in drawn_cards]\n",
        "\n",
        "    def generate_image_prompt(self, drawn_cards):\n",
        "        \"\"\"Generates a descriptive prompt for an image based on multiple tarot cards and their orientations.\"\"\"\n",
        "        prompt = \"Create an image of a tarot spread including the following cards: \"\n",
        "        descriptions = []\n",
        "        for card, orientation in drawn_cards:\n",
        "            descriptions.append(f\"'{card}' in {orientation} position\")\n",
        "        prompt += \", \".join(descriptions) + \". Each card should be using the format of traditional Rider tarot card style. Present the card in its correct orientation. If given in reverse position, the card need to be presented in reverse. Present the cards without any background pictures, just the card themselves, in same size.\"\n",
        "        return prompt\n",
        "\n",
        "    def generate_prompt(self, user_question, drawn_cards):\n",
        "        prompt = f\"User asked: {user_question}\\n\\n\"\n",
        "        for card, orientation in drawn_cards:\n",
        "            prompt += f\"The card drawn is {card} facing {orientation}.\\n\"\n",
        "        prompt += \"What is the meaning of these card and how to address them to the user's question?\"\n",
        "        return prompt\n"
      ]
    },
    {
      "cell_type": "code",
      "execution_count": null,
      "metadata": {
        "id": "fkoVLIGv6ccl"
      },
      "outputs": [],
      "source": [
        "def get_tarot_reading_v1(user_question,drawn_cards):\n",
        "\n",
        "    prompt = tarot_deck.generate_prompt(user_question, drawn_cards)\n",
        "\n",
        "    response = openai.chat.completions.create(\n",
        "        model=model_name,\n",
        "        #response_format={ \"type\": \"json_object\" },\n",
        "        messages=[\n",
        "            {\"role\": \"system\", \"content\": \"You are a tarot reader. Please interpret the cards drawn for the user.\"\n",
        "                                        + \" Provide the card info and the upward or downward status of each card.\"\n",
        "                                        + \" Give an explaination of each individual card, and then a overall analysis based on these three cards.\"\n",
        "                                        + \" Please feel free to use the elments in the cards as sysmbols for the user's situation if necessary\"\n",
        "                                        + \" Your answer don't always have to be positive.\"},\n",
        "            {\"role\": \"user\", \"content\": prompt}\n",
        "        ]\n",
        "    )\n",
        "    return response.choices[0].message.content"
      ]
    },
    {
      "cell_type": "code",
      "execution_count": null,
      "metadata": {
        "colab": {
          "base_uri": "https://localhost:8080/"
        },
        "id": "hjcCx1jP7AMa",
        "outputId": "2d080505-0f2b-45ff-b9f3-0835541bdb77"
      },
      "outputs": [
        {
          "name": "stdout",
          "output_type": "stream",
          "text": [
            "normal model:The Queen of Cups, representing empathy, intuition, and emotional support, is facing downward. This might indicate a need for you to be more in touch with your emotions and intuition in your career.\n",
            "\n",
            "The Eight of Swords, symbolizing feeling trapped and powerless, is also facing downward, suggesting that you might feel restricted or lacking power in your current situation. This could be due to your own perceptions and self-imposed limitations.\n",
            "\n",
            "The Seven of Wands, representing challenge and competition, is facing downward as well. This card might indicate that you are currently feeling overwhelmed by the challenges and competition in your career.\n",
            "\n",
            "Overall, the cards suggest that you might be feeling restricted and overwhelmed in your career. It's important for you to tap into your intuition and emotions, as indicated by the Queen of Cups, and address the challenges and competition, as suggested by the Seven of Wands. Consider seeking support from those who can help you see beyond your perceived limitations, as indicated by the Eight of Swords. It might be beneficial to focus on finding a balance between your emotional well-being and career challenges.\n",
            "\n"
          ]
        }
      ],
      "source": [
        "tarot_deck = TarotDeck()\n",
        "\n",
        "tarot_deck.shuffle_cards()\n",
        "\n",
        "\n",
        "card_drawn = tarot_deck.draw_cards()\n",
        "\n",
        "\n",
        "user_question = \"What should I focus on in my career right now?\"\n",
        "reading_1 = get_tarot_reading_v1(user_question, card_drawn)\n",
        "print(f\"normal model:{reading_1}\\n\")"
      ]
    },
    {
      "cell_type": "code",
      "execution_count": null,
      "metadata": {
        "colab": {
          "base_uri": "https://localhost:8080/"
        },
        "id": "9Sxpb8jv7GnF",
        "outputId": "4a3c4ca3-d652-48c9-fef1-dcc014fefcb8"
      },
      "outputs": [
        {
          "data": {
            "text/plain": [
              "[('Two of Swords', 'downward'),\n",
              " ('Six of Cups', 'downward'),\n",
              " ('Seven of Pentacles', 'upward')]"
            ]
          },
          "execution_count": 21,
          "metadata": {},
          "output_type": "execute_result"
        }
      ],
      "source": [
        "card_drawn"
      ]
    },
    {
      "cell_type": "code",
      "execution_count": null,
      "metadata": {
        "id": "3Xnh4Nuz7a9U"
      },
      "outputs": [],
      "source": [
        "def get_tarot_reading(user_question,drawn_cards):\n",
        "\n",
        "    prompt = tarot_deck.generate_prompt(user_question, drawn_cards)\n",
        "\n",
        "    response = openai.chat.completions.create(\n",
        "        model=\"gpt-4-turbo\",\n",
        "        #response_format={ \"type\": \"json_object\" },\n",
        "        messages=[\n",
        "            {\"role\": \"system\", \"content\": \"You are a tarot reader. Please interpret the cards drawn for the user.\"\n",
        "                                        + \" Provide the card info and the upward or downward status of each card.\"\n",
        "                                        + \" Give an explaination of each individual card, and then a overall analysis based on these three cards.\"\n",
        "                                        + \" Please feel free to use the elments in the cards as sysmbols for the user's situation if necessary\"\n",
        "                                        + \" Your answer don't always have to be positive.\"},\n",
        "            {\"role\": \"user\", \"content\": prompt}\n",
        "        ]\n",
        "    )\n",
        "    return response.choices[0].message.content"
      ]
    },
    {
      "cell_type": "code",
      "execution_count": null,
      "metadata": {
        "colab": {
          "base_uri": "https://localhost:8080/"
        },
        "id": "3vUXoSCD7o5T",
        "outputId": "bdea8cfc-41ff-4009-d0a0-57b21d5e5a3d"
      },
      "outputs": [
        {
          "name": "stdout",
          "output_type": "stream",
          "text": [
            "GPT model:In the context of your query about what to focus on in your career at this moment, let's explore the meanings of the cards drawn and their overall message for you.\n",
            "\n",
            "1. **Two of Swords Reversed:** When the Two of Swords appears reversed, it suggests a period of indecision or denial coming to an end. This card indicates that you may have been avoiding making a necessary decision, possibly due to fear of making the wrong choice or because of conflicting interests or information. In the career context, it's a nudge to face reality, remove your blindfold, and start addressing the issues at hand without further delay. It's time to open your eyes to the true state of matters and to begin dealing with them head-on.\n",
            "\n",
            "2. **Six of Cups Reversed:** This card typically deals with nostalgia and looking back on past times. When reversed, the Six of Cups might indicate clinging too much to the past or perhaps relying excessively on old ways, networks, or ideas that no longer serve your current ambitions or the demands of the current market. In terms of career, this card advises you to let go of what's familiar but outdated, and to make room for new approaches and innovations. It's a call to evolve and adapt rather than being stuck in comfort zones that no longer contribute to your growth.\n",
            "\n",
            "3. **Seven of Pentacles Upright:** This card stands for assessment and reflection. The Seven of Pentacles shows a person pausing to look back on their hard work and considering their yield. It suggests that now is a good time to pause and review your career progress and strategies. Are they yielding the results you hoped for? What needs to be adjusted, changed, or continued? This card encourages patience and strategic planning, recognizing that some investments of time and energy take longer to mature than others.\n",
            "\n",
            "**Overall Analysis:**\n",
            "Combining these three cards, the central theme seems to be about breaking free from stagnation, reassessment, and strategic forward planning. Your focus should be on making clear decisions (Two of Swords reversed), letting go of outdated methods or old thinking (Six of Cups reversed), and taking a moment to assess what has been working and what has not in your career (Seven of Pentacles). It is a time for practical evaluations and for considering new directions that might be more fruitful in the future. Equip yourself with a forward-thinking mindset, ready to make necessary shifts while also staying diligent and patient with your efforts as they come to fruition.\n",
            "\n"
          ]
        }
      ],
      "source": [
        "user_question = \"What should I focus on in my career right now?\"\n",
        "reading_1 = get_tarot_reading(user_question, card_drawn)\n",
        "print(f\"GPT model:{reading_1}\\n\")"
      ]
    },
    {
      "cell_type": "code",
      "execution_count": null,
      "metadata": {
        "id": "uxbrmzc5dMuC"
      },
      "outputs": [],
      "source": [
        "response = openai.chat.completions.create(\n",
        "    model=model_name,\n",
        "    messages=[\n",
        "      {\n",
        "        \"role\": \"system\",\n",
        "        \"content\": system_message,\n",
        "      },\n",
        "      {\n",
        "          \"role\": \"user\",\n",
        "          \"content\": df['prompt'].sample().values[0],\n",
        "      }\n",
        "    ],\n",
        ")\n",
        "\n",
        "response.choices[0].message.content"
      ]
    },
    {
      "cell_type": "code",
      "execution_count": null,
      "metadata": {
        "id": "USt22WwG6XTY"
      },
      "outputs": [],
      "source": []
    }
  ],
  "metadata": {
    "colab": {
      "provenance": []
    },
    "kernelspec": {
      "display_name": "Python 3",
      "name": "python3"
    },
    "language_info": {
      "name": "python"
    }
  },
  "nbformat": 4,
  "nbformat_minor": 0
}
