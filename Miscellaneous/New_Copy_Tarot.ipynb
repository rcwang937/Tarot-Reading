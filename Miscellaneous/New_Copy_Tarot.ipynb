{
  "cells": [
    {
      "cell_type": "code",
      "execution_count": 1,
      "metadata": {
        "colab": {
          "base_uri": "https://localhost:8080/"
        },
        "id": "NlvN9x2EgIUe",
        "outputId": "6ab45f4a-a418-4b65-eedb-4892aa386f6b"
      },
      "outputs": [
        {
          "name": "stdout",
          "output_type": "stream",
          "text": [
            "Collecting openai\n",
            "  Downloading openai-1.23.6-py3-none-any.whl (311 kB)\n",
            "\u001b[?25l     \u001b[90m━━━━━━━━━━━━━━━━━━━━━━━━━━━━━━━━━━━━━━━━\u001b[0m \u001b[32m0.0/311.6 kB\u001b[0m \u001b[31m?\u001b[0m eta \u001b[36m-:--:--\u001b[0m\r\u001b[2K     \u001b[91m━━━━━━━━━━━\u001b[0m\u001b[91m╸\u001b[0m\u001b[90m━━━━━━━━━━━━━━━━━━━━━━━━━━━━\u001b[0m \u001b[32m92.2/311.6 kB\u001b[0m \u001b[31m2.5 MB/s\u001b[0m eta \u001b[36m0:00:01\u001b[0m\r\u001b[2K     \u001b[91m━━━━━━━━━━━━━━━━━━━━━━━━━━━━━━━━━━━━━━━\u001b[0m\u001b[90m╺\u001b[0m \u001b[32m307.2/311.6 kB\u001b[0m \u001b[31m4.6 MB/s\u001b[0m eta \u001b[36m0:00:01\u001b[0m\r\u001b[2K     \u001b[90m━━━━━━━━━━━━━━━━━━━━━━━━━━━━━━━━━━━━━━━━\u001b[0m \u001b[32m311.6/311.6 kB\u001b[0m \u001b[31m3.7 MB/s\u001b[0m eta \u001b[36m0:00:00\u001b[0m\n",
            "\u001b[?25hRequirement already satisfied: anyio<5,>=3.5.0 in /usr/local/lib/python3.10/dist-packages (from openai) (3.7.1)\n",
            "Requirement already satisfied: distro<2,>=1.7.0 in /usr/lib/python3/dist-packages (from openai) (1.7.0)\n",
            "Collecting httpx<1,>=0.23.0 (from openai)\n",
            "  Downloading httpx-0.27.0-py3-none-any.whl (75 kB)\n",
            "\u001b[2K     \u001b[90m━━━━━━━━━━━━━━━━━━━━━━━━━━━━━━━━━━━━━━━━\u001b[0m \u001b[32m75.6/75.6 kB\u001b[0m \u001b[31m2.8 MB/s\u001b[0m eta \u001b[36m0:00:00\u001b[0m\n",
            "\u001b[?25hRequirement already satisfied: pydantic<3,>=1.9.0 in /usr/local/lib/python3.10/dist-packages (from openai) (2.7.0)\n",
            "Requirement already satisfied: sniffio in /usr/local/lib/python3.10/dist-packages (from openai) (1.3.1)\n",
            "Requirement already satisfied: tqdm>4 in /usr/local/lib/python3.10/dist-packages (from openai) (4.66.2)\n",
            "Requirement already satisfied: typing-extensions<5,>=4.7 in /usr/local/lib/python3.10/dist-packages (from openai) (4.11.0)\n",
            "Requirement already satisfied: idna>=2.8 in /usr/local/lib/python3.10/dist-packages (from anyio<5,>=3.5.0->openai) (3.7)\n",
            "Requirement already satisfied: exceptiongroup in /usr/local/lib/python3.10/dist-packages (from anyio<5,>=3.5.0->openai) (1.2.1)\n",
            "Requirement already satisfied: certifi in /usr/local/lib/python3.10/dist-packages (from httpx<1,>=0.23.0->openai) (2024.2.2)\n",
            "Collecting httpcore==1.* (from httpx<1,>=0.23.0->openai)\n",
            "  Downloading httpcore-1.0.5-py3-none-any.whl (77 kB)\n",
            "\u001b[2K     \u001b[90m━━━━━━━━━━━━━━━━━━━━━━━━━━━━━━━━━━━━━━━━\u001b[0m \u001b[32m77.9/77.9 kB\u001b[0m \u001b[31m4.5 MB/s\u001b[0m eta \u001b[36m0:00:00\u001b[0m\n",
            "\u001b[?25hCollecting h11<0.15,>=0.13 (from httpcore==1.*->httpx<1,>=0.23.0->openai)\n",
            "  Downloading h11-0.14.0-py3-none-any.whl (58 kB)\n",
            "\u001b[2K     \u001b[90m━━━━━━━━━━━━━━━━━━━━━━━━━━━━━━━━━━━━━━━━\u001b[0m \u001b[32m58.3/58.3 kB\u001b[0m \u001b[31m7.0 MB/s\u001b[0m eta \u001b[36m0:00:00\u001b[0m\n",
            "\u001b[?25hRequirement already satisfied: annotated-types>=0.4.0 in /usr/local/lib/python3.10/dist-packages (from pydantic<3,>=1.9.0->openai) (0.6.0)\n",
            "Requirement already satisfied: pydantic-core==2.18.1 in /usr/local/lib/python3.10/dist-packages (from pydantic<3,>=1.9.0->openai) (2.18.1)\n",
            "Installing collected packages: h11, httpcore, httpx, openai\n",
            "Successfully installed h11-0.14.0 httpcore-1.0.5 httpx-0.27.0 openai-1.23.6\n"
          ]
        }
      ],
      "source": [
        "!pip install openai"
      ]
    },
    {
      "cell_type": "code",
      "execution_count": 2,
      "metadata": {
        "id": "tGLnHXVOIrGL"
      },
      "outputs": [],
      "source": [
        "import random"
      ]
    },
    {
      "cell_type": "code",
      "execution_count": 3,
      "metadata": {
        "id": "KqE1k36TflFb"
      },
      "outputs": [],
      "source": [
        "import os\n",
        "from openai import OpenAI\n",
        "\n",
        "# os.environ['OPENAI_API_KEY'] = USE YOUR OWN KEY! please."
      ]
    },
    {
      "cell_type": "code",
      "execution_count": 4,
      "metadata": {
        "id": "yfaA0gTVgAAU"
      },
      "outputs": [],
      "source": [
        "client = OpenAI()"
      ]
    },
    {
      "cell_type": "code",
      "execution_count": 5,
      "metadata": {
        "id": "bTJad8OvMRjN"
      },
      "outputs": [],
      "source": [
        "class TarotDeck:\n",
        "    def __init__(self):\n",
        "        self.cards = [\n",
        "            'The Fool', 'The Magician', 'The High Priestess', 'The Empress', 'The Emperor',\n",
        "            'The Hierophant', 'The Lovers', 'The Chariot', 'Strength', 'The Hermit',\n",
        "            'Wheel of Fortune', 'Justice', 'The Hanged Man', 'Death', 'Temperance',\n",
        "            'The Devil', 'The Tower', 'The Star', 'The Moon', 'The Sun',\n",
        "            'Judgement', 'The World'\n",
        "        ] + [\n",
        "            f'{rank} of {suit}' for suit in ['Wands', 'Cups', 'Swords', 'Pentacles']\n",
        "            for rank in ['Ace', 'Two', 'Three', 'Four', 'Five', 'Six', 'Seven', 'Eight', 'Nine', 'Ten', 'Page', 'Knight', 'Queen', 'King']\n",
        "        ]\n",
        "        self.shuffled_deck = []\n",
        "\n",
        "    def shuffle_cards(self):\n",
        "        \"\"\"Shuffles the deck and assigns a random orientation to each card.\"\"\"\n",
        "        deck_with_orientation = [(card, random.choice(['upward', 'downward'])) for card in self.cards]\n",
        "        random.shuffle(deck_with_orientation)\n",
        "        self.shuffled_deck = deck_with_orientation\n",
        "\n",
        "    def draw_cards(self, num_cards=3):\n",
        "        \"\"\"Draws a specified number of cards from the deck.\"\"\"\n",
        "        return self.shuffled_deck[:num_cards]\n",
        "\n",
        "    def get_drawn_cards_info(self):\n",
        "        \"\"\"Returns only the three drawn cards and their orientations.\"\"\"\n",
        "        drawn_cards = self.draw_cards()\n",
        "        return [(card, orientation) for card, orientation in drawn_cards]\n",
        "\n",
        "    def generate_image_prompt(self, drawn_cards):\n",
        "        \"\"\"Generates a descriptive prompt for an image based on multiple tarot cards and their orientations.\"\"\"\n",
        "        prompt = \"Create an image of three set of objects. Each object \"\n",
        "        descriptions = []\n",
        "        for card, orientation in drawn_cards:\n",
        "            descriptions.append(f\"'{card}' in {orientation} position\")\n",
        "        prompt += \", \".join(descriptions) + (\". Each card should be using the format of traditional Rider tarot card style.\"+\n",
        "        #\" Present the card in its correct orientation. If given in reverse position, the card need to be presented in reverse.\"+\n",
        "        \" Present the cards without any background pictures, just the card themselves, in same size.\"+\n",
        "        \" Be sure to make the cards NOT overlapping, and the name of the card clear and correct.\")\n",
        "        return prompt\n",
        "\n",
        "    def generate_prompt(self, user_question, drawn_cards):\n",
        "        prompt = f\"User asked: {user_question}\\n\\n\"\n",
        "        for card, orientation in drawn_cards:\n",
        "            prompt += f\"The card drawn is {card} facing {orientation}.\\n\"\n",
        "        prompt += \"What does this mean?\"\n",
        "        return prompt\n"
      ]
    },
    {
      "cell_type": "code",
      "execution_count": 6,
      "metadata": {
        "id": "vDOI_byKqVNY"
      },
      "outputs": [],
      "source": [
        "def get_tarot_reading_v1(user_question,drawn_cards):\n",
        "\n",
        "    prompt = tarot_deck.generate_prompt(user_question, drawn_cards)\n",
        "\n",
        "    response = client.chat.completions.create(\n",
        "        model=\"gpt-3.5-turbo-0125\",\n",
        "        #response_format={ \"type\": \"json_object\" },\n",
        "        messages=[\n",
        "            {\"role\": \"system\", \"content\": \"You are a tarot reader. Please interpret the cards drawn for the user.\"},\n",
        "            {\"role\": \"user\", \"content\": prompt}\n",
        "        ]\n",
        "    )\n",
        "    return response.choices[0].message.content\n"
      ]
    },
    {
      "cell_type": "code",
      "execution_count": 7,
      "metadata": {
        "colab": {
          "base_uri": "https://localhost:8080/"
        },
        "id": "lmhiMCnJqaXz",
        "outputId": "42d73028-4543-4944-a019-4c3984b9ce18"
      },
      "outputs": [
        {
          "name": "stdout",
          "output_type": "stream",
          "text": [
            "The King of Wands represents ambition, creativity, and leadership in your career. This card suggests that you should focus on harnessing your passion and drive to achieve your goals. It may be a good time to take charge of your projects and inspire others with your vision.\n",
            "\n",
            "The Queen of Cups signifies emotional intelligence, intuition, and compassion. This card suggests that you should also focus on nurturing your relationships in the workplace, listening to your instincts, and showing empathy towards your colleagues. By balancing your emotional and intuitive strengths with your ambition, you can create a harmonious work environment.\n",
            "\n",
            "The Nine of Cups in reverse indicates a caution against overindulgence or complacency. It may be advising you to be mindful of your desires and ensure that your satisfaction and contentment are coming from a place of balance and moderation. This card urges you to avoid being overly focused on material success or external validation.\n",
            "\n",
            "Overall, these cards suggest that you should focus on blending your passion, leadership skills, emotional intelligence, and moderation in your career endeavors. By staying true to yourself, maintaining positive relationships, and balancing your ambitions with emotional well-being, you can achieve success and fulfillment in your professional life.\n"
          ]
        }
      ],
      "source": [
        "# Test:\n",
        "tarot_deck = TarotDeck()\n",
        "\n",
        "tarot_deck.shuffle_cards()\n",
        "\n",
        "\n",
        "card_drawn = tarot_deck.draw_cards()\n",
        "\n",
        "\n",
        "user_question = \"What should I focus on in my career right now?\"\n",
        "reading = get_tarot_reading_v1(user_question, card_drawn)\n",
        "print(reading)"
      ]
    },
    {
      "cell_type": "code",
      "execution_count": 8,
      "metadata": {
        "id": "sFgoRfRa5DGC"
      },
      "outputs": [],
      "source": [
        "class FunMode:\n",
        "    def generate_object_sets(keyword):\n",
        "\n",
        "        response = client.chat.completions.create(\n",
        "            model=\"gpt-3.5-turbo-0125\",\n",
        "            messages=[\n",
        "                {\"role\": \"system\", \"content\": \"Based on the keyword, give three sets of two whimsical objects. \"\n",
        "                                            + \"The keyword and the object should be correlated but loosely.\"\n",
        "                                            + \"For each set, the objects come from two of the following categories:\"\n",
        "                                            + \"mythological, jewerly, trivial and mundane, random medival thing, cuisine.\"\n",
        "                                            + \"Format: 1. object names separated with comma\\n2. object names separated with comma\\n3. object names separated with comma.\"\n",
        "                                            + \"Always omit the category names.\"},\n",
        "                {\"role\": \"user\", \"content\": \"The keyword is \" + keyword}\n",
        "            ]\n",
        "        )\n",
        "        return response.choices[0].message.content\n",
        "\n",
        "    def generate_set_image(obj_set):\n",
        "        response = client.images.generate(\n",
        "          model=\"dall-e-3\",\n",
        "          prompt=\"Three set of objects, one set per card separated: \"+ obj_set +\n",
        "                \"Resemble the art style of the PLAIN, MUNDANE OLD Waite Rider Tarot card.\"\n",
        "                + \"Each card must be same size.\",\n",
        "          size=\"1792x1024\",\n",
        "          quality=\"standard\",\n",
        "          n=1,\n",
        "        )\n",
        "\n",
        "        return response.data[0].url\n",
        "\n",
        "    def set_symbolism(chosen_set):\n",
        "\n",
        "        response = client.chat.completions.create(\n",
        "            model=\"gpt-4\",\n",
        "            messages=[\n",
        "                {\"role\": \"system\", \"content\": \"Give four keywords about the symbolism associated to a set of objects user chose\"                                        + \"Make sure to give two positive ones and two negative ones.\"\n",
        "                                            + \"Format: keywords_separated_by_commas:concise_explanation\"},\n",
        "                {\"role\": \"user\", \"content\": \"The set of object is \" + chosen_set}\n",
        "            ]\n",
        "        )\n",
        "        return response.choices[0].message.content\n",
        "\n",
        "    def get_tarot_reading_fun(keywords,user_question):\n",
        "        response = client.chat.completions.create(\n",
        "            model=\"gpt-4\",\n",
        "            messages=[\n",
        "                {\"role\": \"system\", \"content\": \"You are a tarot reader. Given four keywords and one user question, you draw out 1 card.\"\n",
        "                                            + \"This card should be correlated to the keywords but loosely.\"\n",
        "                                            + \"Detailed explain the face of this card. Explain each individuals and their meanings.\"\n",
        "                                            + \"Then answer user's question, with correspondence to symbolism of the card.\"\n",
        "                                            + \"The answer doesn't have to always be positive.\"\n",
        "                                            + \"Format: Card Name: [content]\\newline Individuals and their symbolisms: [content]\\newline Answer to your question: [content]\"},\n",
        "                {\"role\": \"user\", \"content\": \"The keyword is \" + keywords + \"User question is \" + user_question }\n",
        "            ]\n",
        "        )\n",
        "        return response.choices[0].message.content\n"
      ]
    },
    {
      "cell_type": "code",
      "execution_count": 9,
      "metadata": {
        "colab": {
          "base_uri": "https://localhost:8080/"
        },
        "id": "_gpbBGyIkVno",
        "outputId": "3b15918d-4279-497c-d09c-717e9dd2c871"
      },
      "outputs": [
        {
          "name": "stdout",
          "output_type": "stream",
          "text": [
            "1. Cupid's arrow, Heart-shaped locket  \n",
            "2. Love potion, Chocolate truffles  \n",
            "3. Cupid's bow, Diamond ring\n",
            "https://oaidalleapiprodscus.blob.core.windows.net/private/org-uJoG9flkzxDwirFjoYGxsfu2/user-nZQMZx3kBsSpI2tUTd4M6J5c/img-maOsGTOl56hw4j6wbLbBVR7Z.png?st=2024-04-29T03%3A27%3A40Z&se=2024-04-29T05%3A27%3A40Z&sp=r&sv=2021-08-06&sr=b&rscd=inline&rsct=image/png&skoid=6aaadede-4fb3-4698-a8f6-684d7786b067&sktid=a48cca56-e6da-484e-a814-9c849652bcb3&skt=2024-04-28T12%3A09%3A46Z&ske=2024-04-29T12%3A09%3A46Z&sks=b&skv=2021-08-06&sig=n2zAt6Z8Zuk436jejfHtWlHCH/4NalIf0yornUy2dUs%3D\n",
            "Chosen object set: 2. Love potion, Chocolate truffles  \n"
          ]
        }
      ],
      "source": [
        "obj_set = FunMode.generate_object_sets(\"LOVE\")\n",
        "print(obj_set)\n",
        "print(FunMode.generate_set_image(obj_set))\n",
        "\n",
        "##Which set of object would you like to pick?\n",
        "sets_list = obj_set.split('\\n')\n",
        "chosen_set = sets_list[1]  # Assuming the user chooses the second set\n",
        "\n",
        "print(\"Chosen object set:\", chosen_set)"
      ]
    },
    {
      "cell_type": "code",
      "execution_count": 10,
      "metadata": {
        "colab": {
          "base_uri": "https://localhost:8080/"
        },
        "id": "hbSTBEAKzmvs",
        "outputId": "b8dd66c3-70a3-40d4-fcfb-35b4594f7b61"
      },
      "outputs": [
        {
          "name": "stdout",
          "output_type": "stream",
          "text": [
            " The love potion symbolizes attraction and desire, implying strong emotional and romantic feelings. However, it also holds negative connotations of manipulation, as it suggests controlling someone's feelings. Chocolate truffles, on the other hand, represent sweetness and pleasure, but their overconsumption can lead to addiction.\n"
          ]
        }
      ],
      "source": [
        "symbolism_list = FunMode.set_symbolism(chosen_set).split(':')\n",
        "keywords = symbolism_list[0]\n",
        "print(symbolism_list[1])"
      ]
    },
    {
      "cell_type": "code",
      "execution_count": 11,
      "metadata": {
        "colab": {
          "base_uri": "https://localhost:8080/",
          "height": 35
        },
        "id": "WaIhe3GS0cr5",
        "outputId": "8dfe6da2-f1ef-42d3-aae4-c63c7faad6ef"
      },
      "outputs": [
        {
          "data": {
            "application/vnd.google.colaboratory.intrinsic+json": {
              "type": "string"
            },
            "text/plain": [
              "'Attraction, Desire, Manipulation, Addiction'"
            ]
          },
          "execution_count": 11,
          "metadata": {},
          "output_type": "execute_result"
        }
      ],
      "source": [
        "keywords"
      ]
    },
    {
      "cell_type": "code",
      "execution_count": 12,
      "metadata": {
        "colab": {
          "base_uri": "https://localhost:8080/"
        },
        "id": "kGKQROD537dC",
        "outputId": "65ff3589-32df-4b24-e6b3-f205ad0abca2"
      },
      "outputs": [
        {
          "name": "stdout",
          "output_type": "stream",
          "text": [
            "Card Name: The Devil\n",
            "\n",
            "Individuals and their Symbolisms: The Devil is a rather complex card, embodying several symbolic elements. At its most fundamental, it represents a being of power and allure. It is often portrayed as a satyr or a goat-like creature, both associated with instinctual desires and animalistic traits - hedonism, lust, and addiction, which directly alligns with your keywords. He holds a flame-lit torch in one hand, symbolising the irresistible pull of desire and the light of seduction that attracts to the wrong path. The humans chained at his feet display the concept of manipulation, as they appear trapped but if you look closely, their chains are loose and can be taken off at any time. The chains represent the power of addiction or the illusion of being trapped but remind us that we always have the ability to free ourselves from the shackles if we choose so.\n",
            "\n",
            "Answer to your question: Dear little one, let me tell you a story about the fascinating Kira Yoshikage from the story JJBA Part 4. He, much like the figure on the Devil card, is undeniably attractive, and it is natural to feel a pull towards such charismatic figures. Just as Kira Yoshikage leads an intriguing life in the world of fiction, you too, will lead a life full of excitement and adventure in the real world. Remember always that you have the power within you to make your own choices and the choice is yours to write your own story. As you grow, take these feelings of admiration you currently feel, and channel them into becoming just as strong and alluring a personality as he is. But also remember the lesson of the Devil card - that while it is okay to admire and desire, one should never be manipulated or succumb to addiction. Let your feelings for Kira inspire you, but never let them rule your life.\n"
          ]
        }
      ],
      "source": [
        "user_question='My baby is like the tiniest little thing ever. Can you just say something nice to her? She has a crush on Kira Yoshikage from JJBA part4.'\n",
        "print(FunMode.get_tarot_reading_fun(keywords,user_question))"
      ]
    }
  ],
  "metadata": {
    "accelerator": "GPU",
    "colab": {
      "gpuType": "T4",
      "provenance": []
    },
    "kernelspec": {
      "display_name": "Python 3",
      "name": "python3"
    },
    "language_info": {
      "name": "python"
    }
  },
  "nbformat": 4,
  "nbformat_minor": 0
}
